{
 "metadata": {
  "name": "",
  "signature": "sha256:31001363e13327202fd61def5d5a65fe7b9c221306e800a06cbd5855d455370d"
 },
 "nbformat": 3,
 "nbformat_minor": 0,
 "worksheets": [
  {
   "cells": [
    {
     "cell_type": "markdown",
     "metadata": {},
     "source": [
      "# NPM in numbers\n",
      "\n",
      "NPM.js is a package manager that is essential to the node.js community. As of September 22nd, it had over 99,000 packages hosted, a number that grew by 10,000 packages in the last two months alone.\n",
      "\n",
      "As the node.js package ecosystem grows, it is essential to understand the behaviour of the system: how many packages and what packages are crucial to the community, how the ecosystem evolves over time and can we predict the success of a package based on its metrics alone."
     ]
    },
    {
     "cell_type": "markdown",
     "metadata": {},
     "source": [
      "## Major Version"
     ]
    },
    {
     "cell_type": "markdown",
     "metadata": {},
     "source": [
      "* 85% of packages have a major version of 0.*\n",
      "* 12% are version 1.\\* \n",
      "* 3% are greater than 1.\\*.\n",
      "\n",
      "      all_packages['major_version_category'].value_counts(normalize=True)"
     ]
    },
    {
     "cell_type": "markdown",
     "metadata": {},
     "source": [
      "### Major Version & Releases"
     ]
    },
    {
     "cell_type": "markdown",
     "metadata": {},
     "source": [
      "* The median value for number of releases is 3 releases\n",
      "\n",
      "      all_packages.version_count.median()\n",
      "      \n",
      "* Packages whose major version is greater than 1 have a higher median of 7.\n",
      "\n",
      "  * 0.\\* - 3\n",
      "  * 1.\\* - 3\n",
      "  * \\> 1.\\* - 7\n",
      "  \n",
      "  code:\n",
      "      all_packages.groupby(['major_version_category'])['version_count'].median()\n",
      "     \n",
      "* The higher the major version, the higher the number of releases a package has on average   \n",
      "      sns.barplot(\"major_version_category\", \"version_count\", data=all_packages);\n",
      "\n",
      "<img align=\"left\" src=\"images/version_count_by_major_version_mean.png\" />\n",
      "\n"
     ]
    },
    {
     "cell_type": "markdown",
     "metadata": {},
     "source": [
      "* The package with the most versions is `yarnling` with 410 releases! It's current version number is 0.1.0-176\n",
      "\n",
      "      all_packages[all_packages['version_count'] == all_packages.version_count.max()] "
     ]
    },
    {
     "cell_type": "markdown",
     "metadata": {},
     "source": [
      "### Major Version & Last updated"
     ]
    },
    {
     "cell_type": "markdown",
     "metadata": {},
     "source": [
      "* 66% of packages have been updated in the past year\n",
      "* 23% of packages have been updated between a year and two years ago\n",
      "\n",
      "      all_packages['updated_category'].value_counts(normalize=True)"
     ]
    },
    {
     "cell_type": "markdown",
     "metadata": {},
     "source": [
      "## Age & Major Version"
     ]
    },
    {
     "cell_type": "markdown",
     "metadata": {},
     "source": [
      "## Age & Deep dependents"
     ]
    },
    {
     "cell_type": "markdown",
     "metadata": {},
     "source": [
      "## Deep Dependents & Age"
     ]
    },
    {
     "cell_type": "markdown",
     "metadata": {},
     "source": [
      "## Dependents & Maintainers"
     ]
    },
    {
     "cell_type": "code",
     "collapsed": false,
     "input": [],
     "language": "python",
     "metadata": {},
     "outputs": []
    }
   ],
   "metadata": {}
  }
 ]
}