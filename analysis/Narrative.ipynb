{
 "metadata": {
  "name": "",
  "signature": "sha256:77a926ee4d2dab7716c498b350598f694bf46d6c73731a953a63f767a5e7502b"
 },
 "nbformat": 3,
 "nbformat_minor": 0,
 "worksheets": [
  {
   "cells": [
    {
     "cell_type": "markdown",
     "metadata": {},
     "source": [
      "# NPM in numbers\n",
      "\n",
      "NPM.js is a package manager that is essential to the node.js community. As of September 22nd, it had over 99,000 packages hosted, a number that grew by 10,000 packages in the last two months alone.\n",
      "\n",
      "As the node.js package ecosystem grows, it is essential to understand the behaviour of the system: how many packages and what packages are crucial to the community, how the ecosystem evolves over time and can we predict the success of a package based on its metrics alone."
     ]
    },
    {
     "cell_type": "markdown",
     "metadata": {},
     "source": [
      "## Major Version"
     ]
    },
    {
     "cell_type": "markdown",
     "metadata": {},
     "source": [
      "* 82% of packages have a major version of 0.*\n",
      "* 14% are version 1.\\* \n",
      "* 3% are greater than 1.\\*.\n",
      "\n",
      "      all_packages['major_version_category'].value_counts(normalize=True)\n",
      "      version_major_zero      0.822502\n",
      "      version_major_one       0.143654\n",
      "      version_major_gt_one    0.033843\n"
     ]
    },
    {
     "cell_type": "markdown",
     "metadata": {},
     "source": [
      "### Major Version & Releases"
     ]
    },
    {
     "cell_type": "markdown",
     "metadata": {},
     "source": [
      "* The median value for number of releases is 3 releases\n",
      "\n",
      "      all_packages.version_count.median()\n",
      "      \n",
      "* Packages whose major version is greater than 1 have a higher median of 7.\n",
      "\n",
      "  * 0.\\* - 3\n",
      "  * 1.\\* - 3\n",
      "  * \\> 1.\\* - 7\n",
      "  \n",
      "  code:\n",
      "      all_packages.groupby(['major_version_category'])['version_count'].median()\n",
      "      version_major_gt_one      7\n",
      "      version_major_one         3\n",
      "      version_major_zero        3\n",
      "     \n",
      "* The higher the major version, the higher the number of releases a package has on average   \n",
      "      sns.barplot(\"major_version_category\", \"version_count\", data=all_packages);\n",
      "\n",
      "<img align=\"left\" src=\"images/version_count_by_major_version_mean.png\" />\n",
      "\n"
     ]
    },
    {
     "cell_type": "markdown",
     "metadata": {},
     "source": [
      "* The package with the most versions is `apostrophe` with 433 releases! It's current version number is 0.5.197\n",
      "\n",
      "      all_packages[all_packages['version_count'] == all_packages.version_count.max()]"
     ]
    },
    {
     "cell_type": "markdown",
     "metadata": {},
     "source": [
      "### Major Version & Last updated"
     ]
    },
    {
     "cell_type": "markdown",
     "metadata": {},
     "source": [
      "* 71% of packages have been updated in the past year\n",
      "* 21% of packages have been updated between a year and two years ago\n",
      "\n",
      "      all_packages['updated_category'].value_counts(normalize=True)\n",
      "      within_last_year                 0.706571\n",
      "      havent_been_updated_in_1_year    0.208503\n",
      "      havent_been_updated_in_2_year    0.068142\n",
      "      havent_been_updated_in_3_year    0.016784\n",
      "\n",
      "* Packages that have a higher version number tend to be updated more frequently. Days since last modified median by version:\n",
      "\n",
      "  * Version 0.\\* - 210 days\n",
      "  * Version 1.\\* - 118 days\n",
      "  * Version \\> 1.\\* - 112 days\n",
      "  \n",
      "  code:\n",
      "      all_packages.groupby(['major_version_category'])['deltaSinceModifiedDays'].median()\n",
      "      version_major_gt_one      112\n",
      "      version_major_one         118\n",
      "      version_major_zero        210\n",
      "\n",
      "* More packages whose major version is \\> 1.\\* have been updated within the past year (87%) than those whose version is 0.\\* (68%). Having said that, there were 53,180 packages whose version is 0.\\* that have been updated in the last year, versus only 2,771 whose version is greater than 1.\\*.\n",
      "      \n",
      "      cats = all_packages['major_version_category'].unique()\n",
      "      for c in cats:\n",
      "        print \"=> \" + c\n",
      "        sub = all_packages[all_packages['major_version_category'] == c]\n",
      "        print sub.groupby(['updated_category'])['version_count'].count() / float(len(sub))\n",
      "        \n",
      "      => version_major_zero\n",
      "      updated_category\n",
      "      havent_been_updated_in_1_year    0.222227\n",
      "      havent_been_updated_in_2_year    0.074814\n",
      "      havent_been_updated_in_3_year    0.018295\n",
      "      within_last_year                 0.684665\n",
      "      Name: version_count, dtype: float64\n",
      "      \n",
      "      => version_major_one\n",
      "      updated_category\n",
      "      havent_been_updated_in_1_year    0.155831\n",
      "      havent_been_updated_in_2_year    0.039437\n",
      "      havent_been_updated_in_3_year    0.010541\n",
      "      within_last_year                 0.794191\n",
      "      Name: version_count, dtype: float64\n",
      "      \n",
      "      => version_major_gt_one\n",
      "      updated_category\n",
      "      havent_been_updated_in_1_year    0.098561\n",
      "      havent_been_updated_in_2_year    0.027534\n",
      "      havent_been_updated_in_3_year    0.006884\n",
      "      within_last_year                 0.867021\n",
      "      Name: version_count, dtype: float64\n",
      "\n",
      "\n",
      "* 28,322 packages (~30%) have been updated in the last 3 months alone.\n",
      "\n",
      "      len(all_packages[all_packages['deltaSinceModifiedDays'] < 365/4.0]) / float(len(all_packages))"
     ]
    },
    {
     "cell_type": "markdown",
     "metadata": {},
     "source": [
      "## Age & Major Version"
     ]
    },
    {
     "cell_type": "markdown",
     "metadata": {},
     "source": [
      "## Age & Deep dependents"
     ]
    },
    {
     "cell_type": "markdown",
     "metadata": {},
     "source": [
      "## Deep Dependents & Age"
     ]
    },
    {
     "cell_type": "markdown",
     "metadata": {},
     "source": [
      "## Dependents & Maintainers"
     ]
    },
    {
     "cell_type": "code",
     "collapsed": false,
     "input": [],
     "language": "python",
     "metadata": {},
     "outputs": []
    }
   ],
   "metadata": {}
  }
 ]
}