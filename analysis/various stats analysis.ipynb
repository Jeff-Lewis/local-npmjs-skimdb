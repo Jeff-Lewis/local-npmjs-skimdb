{
 "metadata": {
  "name": "",
  "signature": "sha256:806acf63bcdf2adf715c91eef8ffcd16fc5f3888a70820ad41d4cb829f409018"
 },
 "nbformat": 3,
 "nbformat_minor": 0,
 "worksheets": [
  {
   "cells": [
    {
     "cell_type": "code",
     "collapsed": false,
     "input": [
      "import pandas as pd\n",
      "import numpy as np\n",
      "import matplotlib as mpl\n",
      "import matplotlib.pyplot as plt\n",
      "import time\n",
      "import datetime as dt\n",
      "import random\n",
      "import scipy as sc\n",
      "import scipy.stats as ss\n",
      "import statsmodels.api as smapi\n",
      "import statsmodels.graphics as smgraphics \n",
      "from statsmodels.formula.api import ols\n",
      "from scipy.optimize import curve_fit\n",
      "from scipy.interpolate import interp1d\n",
      "import seaborn as sns\n",
      "import json"
     ],
     "language": "python",
     "metadata": {},
     "outputs": [],
     "prompt_number": 1
    },
    {
     "cell_type": "code",
     "collapsed": false,
     "input": [
      "# metadata about packages\n",
      "d_meta = pd.read_csv('../data/packages_meta.csv')\n",
      "\n",
      "# dependency data\n",
      "d_deps = pd.read_csv('../data/packages_dependencies.csv')\n",
      "d_dev_deps = pd.read_csv('../data/packages_devDependencies.csv')\n",
      "d_all_deps = pd.read_csv('../data/packages_both.csv')\n",
      "\n",
      "# keyword network\n",
      "d_keywords = pd.read_csv('../data/keyword_packages.csv')"
     ],
     "language": "python",
     "metadata": {},
     "outputs": [],
     "prompt_number": 2
    },
    {
     "cell_type": "code",
     "collapsed": false,
     "input": [
      "# normalize dates metadata\n",
      "d_meta['createdAt'] = pd.to_datetime(d_meta['created'],unit='s')\n",
      "d_meta['modifiedAt'] = pd.to_datetime(d_meta['modified'],unit='s')\n",
      "d_meta['deltaSinceModified'] = datetime.datetime.now() - d_meta['modifiedAt']\n",
      "d_meta['age'] = (datetime.datetime.now() - d_meta['createdAt']).apply(lambda x: np.timedelta64(x,'D') / np.timedelta64(1, 'D'))\n",
      "d_meta['delta'] = (d_meta.modifiedAt - d_meta.createdAt).apply(lambda x: np.timedelta64(x,'D') / np.timedelta64(1, 'D'))\n",
      "d_meta['log_delta'] = log(d_meta.delta)\n",
      "d_meta['deltaSinceModifiedDays'] = d_meta.deltaSinceModified.apply(lambda x: np.timedelta64(x, 'D').astype(int))\n",
      "\n",
      "# noramlize time data in dependencies\n",
      "d_deps['diff_between_deps'] = d_deps.deep_dependents - d_deps.direct_dependents \n",
      "d_dev_deps['diff_between_deps'] = d_dev_deps.deep_dependents - d_dev_deps.direct_dependents \n",
      "d_all_deps['diff_between_deps'] = d_all_deps.deep_dependents - d_all_deps.direct_dependents "
     ],
     "language": "python",
     "metadata": {},
     "outputs": [],
     "prompt_number": 3
    },
    {
     "cell_type": "code",
     "collapsed": false,
     "input": [
      "# remove some outliers\n",
      "subset = d_meta[\n",
      "    (d_meta.version_major < 100) & \n",
      "    (d_meta.version_minor < 100) & \n",
      "    (pd.notnull(d_meta.created)) & \n",
      "    (pd.notnull(d_meta.modified)) &\n",
      "    (d_meta.age < 16000)]\n",
      "\n",
      "\n",
      "print( len(subset)/float(len(d_meta)))"
     ],
     "language": "python",
     "metadata": {},
     "outputs": [
      {
       "output_type": "stream",
       "stream": "stdout",
       "text": [
        "0.995337465173\n"
       ]
      }
     ],
     "prompt_number": 4
    },
    {
     "cell_type": "code",
     "collapsed": false,
     "input": [
      "# compute the percentiles for some subset\n",
      "def compute_percentiles(df, d_meta, output, count=5000, sortfn=None):\n",
      "    \n",
      "    # Should we track this again?\n",
      "    # df['depends_on_count_percent_p'] = df.depends_on_count / df.depends_on_count.max()\n",
      "    df['direct_dependents_count_p'] = df.direct_dependents  / df.direct_dependents.max()\n",
      "    df['deep_dependent_count_p'] = df.deep_dependents / df.deep_dependents.max()\n",
      "    df['diff_between_deps_p'] = df.diff_between_deps / df.diff_between_deps.max()\n",
      "\n",
      "    # combine with metadata\n",
      "    merged_subset = pd.merge(df, d_meta, left_on=['package'], right_on=['id'], how='left')\n",
      "    merged_subset['package'] = merged_subset['id']\n",
      "    \n",
      "    merged_subset.drop('id', inplace=True, axis=1)\n",
      "    \n",
      "    merged_subset['delta_p'] = merged_subset.delta / merged_subset.delta.max()\n",
      "    merged_subset['version_count_p'] = merged_subset.version_count / merged_subset.version_count.max()\n",
      "    \n",
      "    # remove some outliers\n",
      "    merged_subset = merged_subset[merged_subset.version_major < 68]\n",
      "    \n",
      "    if (sortfn):\n",
      "        merged_subset = sortfn(merged_subset)\n",
      "    \n",
      "    s =  merged_subset[0:count]\n",
      "    s.to_json(orient='records', path_or_buf=output)\n",
      "    \n",
      "    return s"
     ],
     "language": "python",
     "metadata": {},
     "outputs": [],
     "prompt_number": 38
    },
    {
     "cell_type": "code",
     "collapsed": false,
     "input": [
      "# Just merge the two for working copy\n",
      "all_packages = compute_percentiles(d_deps, subset, 'all_packages_merged_with_deps.json', count=len(subset))"
     ],
     "language": "python",
     "metadata": {},
     "outputs": [],
     "prompt_number": 39
    },
    {
     "cell_type": "code",
     "collapsed": false,
     "input": [
      "all_packages.columns.values"
     ],
     "language": "python",
     "metadata": {},
     "outputs": [
      {
       "metadata": {},
       "output_type": "pyout",
       "prompt_number": 40,
       "text": [
        "array(['package', 'direct_dependents', 'deep_dependents',\n",
        "       'diff_between_deps', 'direct_dependents_count_p',\n",
        "       'deep_dependent_count_p', 'diff_between_deps_p', 'latest_version',\n",
        "       'version_major', 'version_minor', 'version_patch', 'created',\n",
        "       'modified', 'maintainer_count', 'version_count', 'keywords',\n",
        "       'createdAt', 'modifiedAt', 'deltaSinceModified', 'age', 'delta',\n",
        "       'log_delta', 'deltaSinceModifiedDays', 'version_count_category',\n",
        "       'major_version_category', 'delta_p', 'version_count_p'], dtype=object)"
       ]
      }
     ],
     "prompt_number": 40
    },
    {
     "cell_type": "code",
     "collapsed": false,
     "input": [
      "# Category breakdowns:\n",
      "\n",
      "## Version count\n",
      "def version_count(row):\n",
      "    if (row['version_count'] == 1):\n",
      "        return '1_release'\n",
      "    if ((row['version_count'] >= 2) & (row['version_count'] <= 3)):\n",
      "        return '2-3_releases'\n",
      "    if ((row['version_count'] >= 4) & (row['version_count'] <= 10)):\n",
      "        return '4-10_releases'\n",
      "    if ((row['version_count'] >= 11) & (row['version_count'] <= 50)):\n",
      "        return '11-50_releases'\n",
      "    if (row['version_count'] > 50):\n",
      "        return 'gt50_releases'\n",
      "    \n",
      "## Major Version\n",
      "def major_version(row):\n",
      "    if (row['version_major'] == 0):\n",
      "        return 'version_major_zero'\n",
      "    if (row['version_major'] == 1):\n",
      "        return 'version_major_one'\n",
      "    if (row['version_major'] > 1):\n",
      "        return 'version_major_gt_one'\n",
      "    \n",
      "## Dependents\n",
      "def deep_dependents(row):\n",
      "    if (row['deep_dependents'] == 0):\n",
      "        return 'deps_zero'\n",
      "    if ((row['deep_dependents'] >= 1) & (row['deep_dependents'] <= 5)):\n",
      "        return 'deps_lt_5'\n",
      "    if ((row['deep_dependents'] >= 6) & (row['deep_dependents'] <= 20)):\n",
      "        return 'deps_gt_5_lt_20'\n",
      "    if ((row['deep_dependents'] >= 21) & (row['deep_dependents'] <= 100)):\n",
      "        return 'deps_gt_20_lt_100'\n",
      "    if (row['deep_dependents'] > 100):\n",
      "        return 'deps_gt_100'\n",
      "\n",
      "## Age\n",
      "def age(row):\n",
      "    if (row['age'] < 365/4):\n",
      "        return 'age_0.25_year'\n",
      "    if ((row['age'] >= 365/4) & (row['age'] < 365/2)):\n",
      "        return 'age_0.5_year'\n",
      "    if ((row['age'] >= 365/2) & (row['age'] < 365)):\n",
      "        return 'age_1_year'\n",
      "    if ((row['age'] >= 365) & (row['age'] < 365 * 2)):\n",
      "        return 'age_2_year'\n",
      "    if (row['age'] >= 365 * 2):\n",
      "        return 'age_3_year'\n",
      "\n",
      "## Updated\n",
      "def updated(row):\n",
      "    if (row['deltaSinceModifiedDays'] <= 365):\n",
      "        return 'within_last_year'\n",
      "    if ((row['deltaSinceModifiedDays'] > 365) & (row['deltaSinceModifiedDays'] <= 365 * 2)):\n",
      "        return 'havent_been_updated_in_1_year'\n",
      "    if ((row['deltaSinceModifiedDays'] > 365 * 2) & (row['deltaSinceModifiedDays'] <= 365 * 3)):\n",
      "        return 'havent_been_updated_in_2_year'\n",
      "    if (row['deltaSinceModifiedDays'] > 365 * 3):\n",
      "        return 'havent_been_updated_in_3_year'\n",
      "\n",
      "## Maintainers\n",
      "def maintainers(row):\n",
      "    if (row['maintainer_count'] == 1):\n",
      "        return 'maintainers_1'\n",
      "    if (row['maintainer_count'] == 2):\n",
      "        return 'maintainers_2'\n",
      "    if (row['maintainer_count'] >= 3):\n",
      "        return 'maintainers_gt_3'"
     ],
     "language": "python",
     "metadata": {},
     "outputs": [],
     "prompt_number": 82
    },
    {
     "cell_type": "code",
     "collapsed": false,
     "input": [
      "print \"Version Count\"\n",
      "all_packages['version_count_category'] = all_packages.apply(version_count, axis=1)\n",
      "print \"Major Version\"\n",
      "all_packages['major_version_category'] = all_packages.apply(major_version, axis=1)\n",
      "print \"Deep Dependents Count\"\n",
      "all_packages['deep_dependents_category'] = all_packages.apply(deep_dependents, axis=1)\n",
      "print \"Age Category\"\n",
      "all_packages['age_category'] = all_packages.apply(age, axis=1)\n",
      "print \"Days since updated\"\n",
      "all_packages['updated_category'] = all_packages.apply(updated, axis=1)\n",
      "print \"Maintainer count\"\n",
      "all_packages['maintainers_category'] = all_packages.apply(maintainers, axis=1)"
     ],
     "language": "python",
     "metadata": {},
     "outputs": [
      {
       "output_type": "stream",
       "stream": "stdout",
       "text": [
        "Version Count\n",
        "Major Version"
       ]
      },
      {
       "output_type": "stream",
       "stream": "stdout",
       "text": [
        "\n",
        "Deep Dependents Count"
       ]
      },
      {
       "output_type": "stream",
       "stream": "stdout",
       "text": [
        "\n",
        "Age Category"
       ]
      },
      {
       "output_type": "stream",
       "stream": "stdout",
       "text": [
        "\n",
        "Days since updated"
       ]
      },
      {
       "output_type": "stream",
       "stream": "stdout",
       "text": [
        "\n",
        "Maintainer count"
       ]
      },
      {
       "output_type": "stream",
       "stream": "stdout",
       "text": [
        "\n"
       ]
      }
     ],
     "prompt_number": 83
    },
    {
     "cell_type": "code",
     "collapsed": false,
     "input": [
      "mod = ols(formula='version_count_category ~ major_version_category', data=all_packages)\n",
      "res = mod.fit()\n",
      "print res.summary()\n"
     ],
     "language": "python",
     "metadata": {},
     "outputs": [
      {
       "output_type": "stream",
       "stream": "stdout",
       "text": [
        "                            OLS Regression Results                            \n",
        "==============================================================================\n",
        "Dep. Variable:        deep_dependents   R-squared:                       0.199\n",
        "Model:                            OLS   Adj. R-squared:                  0.199\n",
        "Method:                 Least Squares   F-statistic:                 2.098e+04\n",
        "Date:                Mon, 22 Sep 2014   Prob (F-statistic):               0.00\n",
        "Time:                        17:56:57   Log-Likelihood:            -6.0341e+05\n",
        "No. Observations:               84422   AIC:                         1.207e+06\n",
        "Df Residuals:                   84420   BIC:                         1.207e+06\n",
        "Df Model:                           1                                         \n",
        "=====================================================================================\n",
        "                        coef    std err          t      P>|t|      [95.0% Conf. Int.]\n",
        "-------------------------------------------------------------------------------------\n",
        "Intercept            12.3434      1.059     11.651      0.000        10.267    14.420\n",
        "direct_dependents     3.1212      0.022    144.845      0.000         3.079     3.163\n",
        "==============================================================================\n",
        "Omnibus:                   226498.782   Durbin-Watson:                   1.755\n",
        "Prob(Omnibus):                  0.000   Jarque-Bera (JB):       6440839252.846\n",
        "Skew:                          32.906   Prob(JB):                         0.00\n",
        "Kurtosis:                    1354.558   Cond. No.                         49.2\n",
        "==============================================================================\n"
       ]
      }
     ],
     "prompt_number": 62
    },
    {
     "cell_type": "code",
     "collapsed": true,
     "input": [
      "s = all_packages[(all_packages['deep_dependents'] < 7000) & (all_packages['deep_dependents'] > 500)]\n",
      "mod = ols(formula='deep_dependents ~ version_count', data=s)\n",
      "res = mod.fit()\n",
      "print res.summary()\n",
      "sns.lmplot(\"deep_dependents\", \"version_count\", s);"
     ],
     "language": "python",
     "metadata": {},
     "outputs": [
      {
       "output_type": "stream",
       "stream": "stdout",
       "text": [
        "                            OLS Regression Results                            \n",
        "==============================================================================\n",
        "Dep. Variable:        deep_dependents   R-squared:                       0.006\n",
        "Model:                            OLS   Adj. R-squared:                  0.004\n",
        "Method:                 Least Squares   F-statistic:                     2.538\n",
        "Date:                Tue, 23 Sep 2014   Prob (F-statistic):              0.112\n",
        "Time:                        10:18:58   Log-Likelihood:                -3352.2\n",
        "No. Observations:                 390   AIC:                             6708.\n",
        "Df Residuals:                     388   BIC:                             6716.\n",
        "Df Model:                           1                                         \n",
        "=================================================================================\n",
        "                    coef    std err          t      P>|t|      [95.0% Conf. Int.]\n",
        "---------------------------------------------------------------------------------\n",
        "Intercept      2003.3270     75.142     26.661      0.000      1855.591  2151.063\n",
        "version_count    -3.4894      2.190     -1.593      0.112        -7.796     0.817\n",
        "==============================================================================\n",
        "Omnibus:                       60.206   Durbin-Watson:                   1.467\n",
        "Prob(Omnibus):                  0.000   Jarque-Bera (JB):               84.173\n",
        "Skew:                           1.105   Prob(JB):                     5.27e-19\n",
        "Kurtosis:                       3.543   Cond. No.                         38.8\n",
        "==============================================================================\n"
       ]
      },
      {
       "metadata": {},
       "output_type": "display_data",
       "png": "[encoded data removed]",
       "text": [
        "<matplotlib.figure.Figure at 0x1123ddfd0>"
       ]
      }
     ],
     "prompt_number": 77
    },
    {
     "cell_type": "markdown",
     "metadata": {},
     "source": [
      "## Major Version"
     ]
    },
    {
     "cell_type": "markdown",
     "metadata": {},
     "source": [
      "#### Releases"
     ]
    },
    {
     "cell_type": "code",
     "collapsed": false,
     "input": [
      "# Percents\n",
      "all_packages['major_version_category'].value_counts(normalize=True)"
     ],
     "language": "python",
     "metadata": {},
     "outputs": [
      {
       "metadata": {},
       "output_type": "pyout",
       "prompt_number": 118,
       "text": [
        "version_major_zero      0.842754\n",
        "version_major_one       0.125654\n",
        "version_major_gt_one    0.031591\n",
        "dtype: float64"
       ]
      }
     ],
     "prompt_number": 118
    },
    {
     "cell_type": "code",
     "collapsed": false,
     "input": [
      "# Medians\n",
      "all_packages.groupby(['major_version_category'])['version_count'].median()"
     ],
     "language": "python",
     "metadata": {},
     "outputs": [
      {
       "metadata": {},
       "output_type": "pyout",
       "prompt_number": 130,
       "text": [
        "major_version_category\n",
        "version_major_gt_one      7\n",
        "version_major_one         3\n",
        "version_major_zero        3\n",
        "Name: version_count, dtype: float64"
       ]
      }
     ],
     "prompt_number": 130
    },
    {
     "cell_type": "code",
     "collapsed": true,
     "input": [
      "# Means\n",
      "sns.barplot(\"major_version_category\", \"version_count\", data=all_packages);\n",
      "savefig('images/version_count_by_major_version_mean.png')"
     ],
     "language": "python",
     "metadata": {},
     "outputs": [
      {
       "metadata": {},
       "output_type": "display_data",
       "png": "[encoded data removed]",
       "text": [
        "<matplotlib.figure.Figure at 0x117060cd0>"
       ]
      }
     ],
     "prompt_number": 108
    },
    {
     "cell_type": "code",
     "collapsed": false,
     "input": [
      "# Most releases:\n",
      "all_packages[all_packages['version_count'] == all_packages.version_count.max()]"
     ],
     "language": "python",
     "metadata": {},
     "outputs": [
      {
       "html": [
        "<div style=\"max-height:1000px;max-width:1500px;overflow:auto;\">\n",
        "<table border=\"1\" class=\"dataframe\">\n",
        "  <thead>\n",
        "    <tr style=\"text-align: right;\">\n",
        "      <th></th>\n",
        "      <th>package</th>\n",
        "      <th>direct_dependents</th>\n",
        "      <th>deep_dependents</th>\n",
        "      <th>diff_between_deps</th>\n",
        "      <th>direct_dependents_count_p</th>\n",
        "      <th>deep_dependent_count_p</th>\n",
        "      <th>diff_between_deps_p</th>\n",
        "      <th>latest_version</th>\n",
        "      <th>version_major</th>\n",
        "      <th>version_minor</th>\n",
        "      <th>...</th>\n",
        "      <th>log_delta</th>\n",
        "      <th>deltaSinceModifiedDays</th>\n",
        "      <th>version_count_category</th>\n",
        "      <th>major_version_category</th>\n",
        "      <th>delta_p</th>\n",
        "      <th>version_count_p</th>\n",
        "      <th>deep_dependents_category</th>\n",
        "      <th>age_category</th>\n",
        "      <th>updated_category</th>\n",
        "      <th>maintainers_category</th>\n",
        "    </tr>\n",
        "  </thead>\n",
        "  <tbody>\n",
        "    <tr>\n",
        "      <th>84368</th>\n",
        "      <td> yarnlang</td>\n",
        "      <td> 0</td>\n",
        "      <td> 0</td>\n",
        "      <td> 0</td>\n",
        "      <td> 0</td>\n",
        "      <td> 0</td>\n",
        "      <td> 0</td>\n",
        "      <td> 0.1.0-176</td>\n",
        "      <td> 0</td>\n",
        "      <td> 1</td>\n",
        "      <td>...</td>\n",
        "      <td> 4.812184</td>\n",
        "      <td> 331</td>\n",
        "      <td> gt50_releases</td>\n",
        "      <td> version_major_zero</td>\n",
        "      <td> 0.093822</td>\n",
        "      <td> 1</td>\n",
        "      <td> deps_zero</td>\n",
        "      <td> age_2_year</td>\n",
        "      <td> within_last_year</td>\n",
        "      <td> maintainers_1</td>\n",
        "    </tr>\n",
        "  </tbody>\n",
        "</table>\n",
        "<p>1 rows \u00d7 31 columns</p>\n",
        "</div>"
       ],
       "metadata": {},
       "output_type": "pyout",
       "prompt_number": 136,
       "text": [
        "        package  direct_dependents  deep_dependents  diff_between_deps  \\\n",
        "84368  yarnlang                  0                0                  0   \n",
        "\n",
        "       direct_dependents_count_p  deep_dependent_count_p  diff_between_deps_p  \\\n",
        "84368                          0                       0                    0   \n",
        "\n",
        "      latest_version  version_major  version_minor      ...        log_delta  \\\n",
        "84368      0.1.0-176              0              1      ...         4.812184   \n",
        "\n",
        "      deltaSinceModifiedDays version_count_category  major_version_category  \\\n",
        "84368                    331          gt50_releases      version_major_zero   \n",
        "\n",
        "        delta_p version_count_p deep_dependents_category age_category  \\\n",
        "84368  0.093822               1                deps_zero   age_2_year   \n",
        "\n",
        "       updated_category  maintainers_category  \n",
        "84368  within_last_year         maintainers_1  \n",
        "\n",
        "[1 rows x 31 columns]"
       ]
      }
     ],
     "prompt_number": 136
    },
    {
     "cell_type": "code",
     "collapsed": false,
     "input": [
      "# higher major version -> more releases\n",
      "s = all_packages[all_packages['version_count'] > 1]\n",
      "x = 'version_count'\n",
      "y = 'version_major'\n",
      "\n",
      "f, (ax1, ax2) = plt.subplots(1, 2, sharey=True)\n",
      "sns.regplot(x, y, s, ax=ax1)\n",
      "ax1.set(xlabel=\"# of releases\", ylabel=\"major version\");\n",
      "sns.residplot(x, y, s, color=\"seagreen\", ax=ax2)\n",
      "mod = ols(formula='version_count ~ version_major', data=s)\n",
      "res = mod.fit()\n",
      "print res.summary()"
     ],
     "language": "python",
     "metadata": {},
     "outputs": [
      {
       "output_type": "stream",
       "stream": "stdout",
       "text": [
        "                            OLS Regression Results                            \n",
        "==============================================================================\n",
        "Dep. Variable:          version_count   R-squared:                       0.018\n",
        "Model:                            OLS   Adj. R-squared:                  0.018\n",
        "Method:                 Least Squares   F-statistic:                     1076.\n",
        "Date:                Tue, 23 Sep 2014   Prob (F-statistic):          7.46e-234\n",
        "Time:                        12:58:45   Log-Likelihood:            -2.2388e+05\n",
        "No. Observations:               59041   AIC:                         4.478e+05\n",
        "Df Residuals:                   59039   BIC:                         4.478e+05\n",
        "Df Model:                           1                                         \n",
        "=================================================================================\n",
        "                    coef    std err          t      P>|t|      [95.0% Conf. Int.]\n",
        "---------------------------------------------------------------------------------\n",
        "Intercept         6.7111      0.046    144.906      0.000         6.620     6.802\n",
        "version_major     1.9090      0.058     32.800      0.000         1.795     2.023\n",
        "==============================================================================\n",
        "Omnibus:                    91755.468   Durbin-Watson:                   1.772\n",
        "Prob(Omnibus):                  0.000   Jarque-Bera (JB):         97397414.450\n",
        "Skew:                           9.665   Prob(JB):                         0.00\n",
        "Kurtosis:                     201.036   Cond. No.                         1.47\n",
        "==============================================================================\n"
       ]
      },
      {
       "metadata": {},
       "output_type": "display_data",
       "png": "[encoded data removed]",
       "text": [
        "<matplotlib.figure.Figure at 0x118d43450>"
       ]
      }
     ],
     "prompt_number": 159
    },
    {
     "cell_type": "markdown",
     "metadata": {},
     "source": [
      "#### Updates"
     ]
    },
    {
     "cell_type": "code",
     "collapsed": false,
     "input": [
      "# Percents\n",
      "all_packages['updated_category'].value_counts(normalize=True)"
     ],
     "language": "python",
     "metadata": {},
     "outputs": [
      {
       "metadata": {},
       "output_type": "pyout",
       "prompt_number": 131,
       "text": [
        "within_last_year                 0.665478\n",
        "havent_been_updated_in_1_year    0.238753\n",
        "havent_been_updated_in_2_year    0.076935\n",
        "havent_been_updated_in_3_year    0.018834\n",
        "dtype: float64"
       ]
      }
     ],
     "prompt_number": 131
    },
    {
     "cell_type": "code",
     "collapsed": false,
     "input": [
      "sns.barplot(\"updated_category\", \"version_count\", data=all_packages);"
     ],
     "language": "python",
     "metadata": {},
     "outputs": [
      {
       "metadata": {},
       "output_type": "display_data",
       "png": "[encoded data removed]",
       "text": [
        "<matplotlib.figure.Figure at 0x11706b2d0>"
       ]
      }
     ],
     "prompt_number": 109
    },
    {
     "cell_type": "code",
     "collapsed": false,
     "input": [],
     "language": "python",
     "metadata": {},
     "outputs": []
    }
   ],
   "metadata": {}
  }
 ]
}