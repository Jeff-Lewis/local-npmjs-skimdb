{
 "metadata": {
  "name": "",
  "signature": "sha256:75fd55841a638acc6875f7bbc4dbe6f7eccbb13e2955cd6106cb3ab7f27709cf"
 },
 "nbformat": 3,
 "nbformat_minor": 0,
 "worksheets": [
  {
   "cells": [
    {
     "cell_type": "code",
     "collapsed": false,
     "input": [
      "import pandas as pd\n",
      "import numpy as np\n",
      "import matplotlib as mpl\n",
      "import matplotlib.pyplot as plt\n",
      "import time\n",
      "import datetime as dt\n",
      "import random\n",
      "import scipy as sc\n",
      "import scipy.stats as ss\n",
      "import statsmodels.api as smapi\n",
      "import statsmodels.graphics as smgraphics \n",
      "from statsmodels.formula.api import ols\n",
      "from scipy.optimize import curve_fit\n",
      "from scipy.interpolate import interp1d\n",
      "import seaborn as sns\n",
      "import json"
     ],
     "language": "python",
     "metadata": {},
     "outputs": [],
     "prompt_number": 139
    },
    {
     "cell_type": "code",
     "collapsed": false,
     "input": [
      "# metadata about packages\n",
      "d_meta = pd.read_csv('../data/packages_meta.csv')\n",
      "\n",
      "# dependency data\n",
      "d_deps = pd.read_csv('../data/packages_dependencies.csv')\n",
      "d_dev_deps = pd.read_csv('../data/packages_devDependencies.csv')\n",
      "d_all_deps = pd.read_csv('../data/packages_both.csv')\n",
      "\n",
      "# keyword network\n",
      "d_keywords = pd.read_csv('../data/keyword_packages.csv')"
     ],
     "language": "python",
     "metadata": {},
     "outputs": [],
     "prompt_number": 140
    },
    {
     "cell_type": "code",
     "collapsed": false,
     "input": [
      "# normalize dates metadata\n",
      "d_meta['createdAt'] = pd.to_datetime(d_meta['created'],unit='s')\n",
      "d_meta['modifiedAt'] = pd.to_datetime(d_meta['modified'],unit='s')\n",
      "d_meta['deltaSinceModified'] = datetime.datetime.now() - d_meta['modifiedAt']\n",
      "d_meta['age'] = (datetime.datetime.now() - d_meta['createdAt']).apply(lambda x: np.timedelta64(x,'D') / np.timedelta64(1, 'D'))\n",
      "d_meta['delta'] = (d_meta.modifiedAt - d_meta.createdAt).apply(lambda x: np.timedelta64(x,'D') / np.timedelta64(1, 'D'))\n",
      "d_meta['log_delta'] = log(d_meta.delta)\n",
      "d_meta['deltaSinceModifiedDays'] = d_meta.deltaSinceModified.apply(lambda x: np.timedelta64(x, 'D').astype(int))\n",
      "\n",
      "# noramlize time data in dependencies\n",
      "d_deps['diff_between_deps'] = d_deps.deep_dependents - d_deps.direct_dependents \n",
      "d_dev_deps['diff_between_deps'] = d_dev_deps.deep_dependents - d_dev_deps.direct_dependents \n",
      "d_all_deps['diff_between_deps'] = d_all_deps.deep_dependents - d_all_deps.direct_dependents "
     ],
     "language": "python",
     "metadata": {},
     "outputs": [],
     "prompt_number": 141
    },
    {
     "cell_type": "code",
     "collapsed": false,
     "input": [
      "# remove some outliers\n",
      "subset = d_meta[\n",
      "    (d_meta.version_major < 100) & \n",
      "    (d_meta.version_minor < 100) & \n",
      "    (pd.notnull(d_meta.created)) & \n",
      "    (pd.notnull(d_meta.modified)) &\n",
      "    (d_meta.age < 16000)]\n",
      "\n",
      "\n",
      "print( len(subset)/float(len(d_meta)))"
     ],
     "language": "python",
     "metadata": {},
     "outputs": [
      {
       "output_type": "stream",
       "stream": "stdout",
       "text": [
        "0.995712311216\n"
       ]
      }
     ],
     "prompt_number": 142
    },
    {
     "cell_type": "code",
     "collapsed": false,
     "input": [
      "# compute the percentiles for some subset\n",
      "def compute_percentiles(df, d_meta, output, count=5000, sortfn=None):\n",
      "    \n",
      "    # Should we track this again?\n",
      "    # df['depends_on_count_percent_p'] = df.depends_on_count / df.depends_on_count.max()\n",
      "    df['direct_dependents_count_p'] = df.direct_dependents  / df.direct_dependents.max()\n",
      "    df['deep_dependent_count_p'] = df.deep_dependents / df.deep_dependents.max()\n",
      "    df['diff_between_deps_p'] = df.diff_between_deps / df.diff_between_deps.max()\n",
      "\n",
      "    # combine with metadata\n",
      "    merged_subset = pd.merge(df, d_meta, left_on=['package'], right_on=['id'], how='left')\n",
      "    merged_subset['package'] = merged_subset['id']\n",
      "    \n",
      "    merged_subset.drop('id', inplace=True, axis=1)\n",
      "    \n",
      "    merged_subset['delta_p'] = merged_subset.delta / merged_subset.delta.max()\n",
      "    merged_subset['version_count_p'] = merged_subset.version_count / merged_subset.version_count.max()\n",
      "    \n",
      "    # remove some outliers\n",
      "    merged_subset = merged_subset[merged_subset.version_major < 68]\n",
      "    \n",
      "    if (sortfn):\n",
      "        merged_subset = sortfn(merged_subset)\n",
      "    \n",
      "    s =  merged_subset[0:count]\n",
      "    s.to_json(orient='records', path_or_buf=output)\n",
      "    \n",
      "    return s"
     ],
     "language": "python",
     "metadata": {},
     "outputs": [],
     "prompt_number": 143
    },
    {
     "cell_type": "code",
     "collapsed": false,
     "input": [
      "# Just merge the two for working copy\n",
      "all_packages = compute_percentiles(d_deps, subset, 'all_packages_merged_with_deps.json', count=len(subset))"
     ],
     "language": "python",
     "metadata": {},
     "outputs": [],
     "prompt_number": 144
    },
    {
     "cell_type": "code",
     "collapsed": false,
     "input": [
      "all_packages.columns.values"
     ],
     "language": "python",
     "metadata": {},
     "outputs": [
      {
       "metadata": {},
       "output_type": "pyout",
       "prompt_number": 145,
       "text": [
        "array(['package', 'direct_dependents', 'deep_dependents',\n",
        "       'diff_between_deps', 'direct_dependents_count_p',\n",
        "       'deep_dependent_count_p', 'diff_between_deps_p', 'latest_version',\n",
        "       'version_major', 'version_minor', 'version_patch', 'created',\n",
        "       'modified', 'maintainer_count', 'version_count', 'keywords',\n",
        "       'createdAt', 'modifiedAt', 'deltaSinceModified', 'age', 'delta',\n",
        "       'log_delta', 'deltaSinceModifiedDays', 'delta_p', 'version_count_p'], dtype=object)"
       ]
      }
     ],
     "prompt_number": 145
    },
    {
     "cell_type": "code",
     "collapsed": false,
     "input": [
      "# Category breakdowns:\n",
      "\n",
      "## Version count\n",
      "def version_count(row):\n",
      "    if (row['version_count'] == 1):\n",
      "        return '1_release'\n",
      "    if ((row['version_count'] >= 2) & (row['version_count'] <= 3)):\n",
      "        return '2-3_releases'\n",
      "    if ((row['version_count'] >= 4) & (row['version_count'] <= 10)):\n",
      "        return '4-10_releases'\n",
      "    if ((row['version_count'] >= 11) & (row['version_count'] <= 50)):\n",
      "        return '11-50_releases'\n",
      "    if (row['version_count'] > 50):\n",
      "        return 'gt50_releases'\n",
      "    \n",
      "## Major Version\n",
      "def major_version(row):\n",
      "    if (row['version_major'] == 0):\n",
      "        return 'version_major_zero'\n",
      "    if (row['version_major'] == 1):\n",
      "        return 'version_major_one'\n",
      "    if (row['version_major'] > 1):\n",
      "        return 'version_major_gt_one'\n",
      "    \n",
      "## Dependents\n",
      "def deep_dependents(row):\n",
      "    if (row['deep_dependents'] == 0):\n",
      "        return 'deps_zero'\n",
      "    if ((row['deep_dependents'] >= 1) & (row['deep_dependents'] <= 5)):\n",
      "        return 'deps_lt_5'\n",
      "    if ((row['deep_dependents'] >= 6) & (row['deep_dependents'] <= 20)):\n",
      "        return 'deps_gt_5_lt_20'\n",
      "    if ((row['deep_dependents'] >= 21) & (row['deep_dependents'] <= 100)):\n",
      "        return 'deps_gt_20_lt_100'\n",
      "    if (row['deep_dependents'] > 100):\n",
      "        return 'deps_gt_100'\n",
      "\n",
      "## Age\n",
      "def age(row):\n",
      "    if (row['age'] < 365/4):\n",
      "        return 'age_0.25_year'\n",
      "    if ((row['age'] >= 365/4) & (row['age'] < 365/2)):\n",
      "        return 'age_0.5_year'\n",
      "    if ((row['age'] >= 365/2) & (row['age'] < 365)):\n",
      "        return 'age_1_year'\n",
      "    if ((row['age'] >= 365) & (row['age'] < 365 * 2)):\n",
      "        return 'age_2_year'\n",
      "    if (row['age'] >= 365 * 2):\n",
      "        return 'age_3_year'\n",
      "\n",
      "## Updated\n",
      "def updated(row):\n",
      "    if (row['deltaSinceModifiedDays'] <= 365):\n",
      "        return 'within_last_year'\n",
      "    if ((row['deltaSinceModifiedDays'] > 365) & (row['deltaSinceModifiedDays'] <= 365 * 2)):\n",
      "        return 'havent_been_updated_in_1_year'\n",
      "    if ((row['deltaSinceModifiedDays'] > 365 * 2) & (row['deltaSinceModifiedDays'] <= 365 * 3)):\n",
      "        return 'havent_been_updated_in_2_year'\n",
      "    if (row['deltaSinceModifiedDays'] > 365 * 3):\n",
      "        return 'havent_been_updated_in_3_year'\n",
      "\n",
      "## Maintainers\n",
      "def maintainers(row):\n",
      "    if (row['maintainer_count'] == 1):\n",
      "        return 'maintainers_1'\n",
      "    if (row['maintainer_count'] == 2):\n",
      "        return 'maintainers_2'\n",
      "    if (row['maintainer_count'] >= 3):\n",
      "        return 'maintainers_gt_3'"
     ],
     "language": "python",
     "metadata": {},
     "outputs": [],
     "prompt_number": 146
    },
    {
     "cell_type": "code",
     "collapsed": false,
     "input": [
      "print \"Version Count\"\n",
      "all_packages['version_count_category'] = all_packages.apply(version_count, axis=1)\n",
      "print \"Major Version\"\n",
      "all_packages['major_version_category'] = all_packages.apply(major_version, axis=1)\n",
      "print \"Deep Dependents Count\"\n",
      "all_packages['deep_dependents_category'] = all_packages.apply(deep_dependents, axis=1)\n",
      "print \"Age Category\"\n",
      "all_packages['age_category'] = all_packages.apply(age, axis=1)\n",
      "print \"Days since updated\"\n",
      "all_packages['updated_category'] = all_packages.apply(updated, axis=1)\n",
      "print \"Maintainer count\"\n",
      "all_packages['maintainers_category'] = all_packages.apply(maintainers, axis=1)"
     ],
     "language": "python",
     "metadata": {},
     "outputs": [
      {
       "output_type": "stream",
       "stream": "stdout",
       "text": [
        "Version Count\n",
        "Major Version"
       ]
      },
      {
       "output_type": "stream",
       "stream": "stdout",
       "text": [
        "\n",
        "Deep Dependents Count"
       ]
      },
      {
       "output_type": "stream",
       "stream": "stdout",
       "text": [
        "\n",
        "Age Category"
       ]
      },
      {
       "output_type": "stream",
       "stream": "stdout",
       "text": [
        "\n",
        "Days since updated"
       ]
      },
      {
       "output_type": "stream",
       "stream": "stdout",
       "text": [
        "\n",
        "Maintainer count"
       ]
      },
      {
       "output_type": "stream",
       "stream": "stdout",
       "text": [
        "\n"
       ]
      }
     ],
     "prompt_number": 147
    },
    {
     "cell_type": "code",
     "collapsed": false,
     "input": [
      "mod = ols(formula='version_count ~ version_major', data=all_packages)\n",
      "res = mod.fit()\n",
      "print res.summary()\n"
     ],
     "language": "python",
     "metadata": {},
     "outputs": [
      {
       "output_type": "stream",
       "stream": "stdout",
       "text": [
        "                            OLS Regression Results                            \n",
        "==============================================================================\n",
        "Dep. Variable:          version_count   R-squared:                       0.023\n",
        "Model:                            OLS   Adj. R-squared:                  0.023\n",
        "Method:                 Least Squares   F-statistic:                     2266.\n",
        "Date:                Wed, 24 Sep 2014   Prob (F-statistic):               0.00\n",
        "Time:                        13:03:25   Log-Likelihood:            -3.4997e+05\n",
        "No. Observations:               94435   AIC:                         6.999e+05\n",
        "Df Residuals:                   94433   BIC:                         7.000e+05\n",
        "Df Model:                           1                                         \n",
        "=================================================================================\n",
        "                    coef    std err          t      P>|t|      [95.0% Conf. Int.]\n",
        "---------------------------------------------------------------------------------\n",
        "Intercept         4.9251      0.034    145.603      0.000         4.859     4.991\n",
        "version_major     2.2165      0.047     47.605      0.000         2.125     2.308\n",
        "==============================================================================\n",
        "Omnibus:                   157750.965   Durbin-Watson:                   1.772\n",
        "Prob(Omnibus):                  0.000   Jarque-Bera (JB):        272447054.050\n",
        "Skew:                          11.088   Prob(JB):                         0.00\n",
        "Kurtosis:                     265.200   Cond. No.                         1.59\n",
        "==============================================================================\n"
       ]
      }
     ],
     "prompt_number": 148
    },
    {
     "cell_type": "code",
     "collapsed": true,
     "input": [
      "s = all_packages[(all_packages['deep_dependents'] < 7000) & (all_packages['deep_dependents'] > 500)]\n",
      "mod = ols(formula='deep_dependents ~ version_count', data=s)\n",
      "res = mod.fit()\n",
      "print res.summary()\n",
      "sns.lmplot(\"deep_dependents\", \"version_count\", s);"
     ],
     "language": "python",
     "metadata": {},
     "outputs": [
      {
       "output_type": "stream",
       "stream": "stdout",
       "text": [
        "                            OLS Regression Results                            \n",
        "==============================================================================\n",
        "Dep. Variable:        deep_dependents   R-squared:                       0.004\n",
        "Model:                            OLS   Adj. R-squared:                  0.002\n",
        "Method:                 Least Squares   F-statistic:                     2.020\n",
        "Date:                Tue, 23 Sep 2014   Prob (F-statistic):              0.156\n",
        "Time:                        15:56:06   Log-Likelihood:                -4008.9\n",
        "No. Observations:                 460   AIC:                             8022.\n",
        "Df Residuals:                     458   BIC:                             8030.\n",
        "Df Model:                           1                                         \n",
        "=================================================================================\n",
        "                    coef    std err          t      P>|t|      [95.0% Conf. Int.]\n",
        "---------------------------------------------------------------------------------\n",
        "Intercept      2055.7508     78.672     26.131      0.000      1901.149  2210.353\n",
        "version_count    -3.1308      2.203     -1.421      0.156        -7.460     1.198\n",
        "==============================================================================\n",
        "Omnibus:                      103.513   Durbin-Watson:                   1.654\n",
        "Prob(Omnibus):                  0.000   Jarque-Bera (JB):              175.953\n",
        "Skew:                           1.357   Prob(JB):                     6.20e-39\n",
        "Kurtosis:                       4.349   Cond. No.                         40.8\n",
        "==============================================================================\n"
       ]
      },
      {
       "metadata": {},
       "output_type": "display_data",
       "png": "[encoded data removed]",
       "text": [
        "<matplotlib.figure.Figure at 0x112a4e850>"
       ]
      }
     ],
     "prompt_number": 13
    },
    {
     "cell_type": "markdown",
     "metadata": {},
     "source": [
      "## Major Version"
     ]
    },
    {
     "cell_type": "markdown",
     "metadata": {},
     "source": [
      "#### Releases"
     ]
    },
    {
     "cell_type": "code",
     "collapsed": false,
     "input": [
      "# Percents\n",
      "all_packages['major_version_category'].value_counts(normalize=True)"
     ],
     "language": "python",
     "metadata": {},
     "outputs": [
      {
       "metadata": {},
       "output_type": "pyout",
       "prompt_number": 149,
       "text": [
        "version_major_zero      0.822502\n",
        "version_major_one       0.143654\n",
        "version_major_gt_one    0.033843\n",
        "dtype: float64"
       ]
      }
     ],
     "prompt_number": 149
    },
    {
     "cell_type": "code",
     "collapsed": false,
     "input": [
      "# overall median\n",
      "all_packages.version_count.median()"
     ],
     "language": "python",
     "metadata": {},
     "outputs": [
      {
       "metadata": {},
       "output_type": "pyout",
       "prompt_number": 150,
       "text": [
        "3.0"
       ]
      }
     ],
     "prompt_number": 150
    },
    {
     "cell_type": "code",
     "collapsed": false,
     "input": [
      "# Medians\n",
      "all_packages.groupby(['major_version_category'])['version_count'].median()"
     ],
     "language": "python",
     "metadata": {},
     "outputs": [
      {
       "metadata": {},
       "output_type": "pyout",
       "prompt_number": 151,
       "text": [
        "major_version_category\n",
        "version_major_gt_one      7\n",
        "version_major_one         3\n",
        "version_major_zero        3\n",
        "Name: version_count, dtype: float64"
       ]
      }
     ],
     "prompt_number": 151
    },
    {
     "cell_type": "code",
     "collapsed": true,
     "input": [
      "# Means\n",
      "sns.barplot(\"major_version_category\", \"version_count\", data=all_packages);\n",
      "savefig('images/version_count_by_major_version_mean.png')"
     ],
     "language": "python",
     "metadata": {},
     "outputs": [
      {
       "metadata": {},
       "output_type": "display_data",
       "png": "[encoded data removed]",
       "text": [
        "<matplotlib.figure.Figure at 0x115075390>"
       ]
      }
     ],
     "prompt_number": 153
    },
    {
     "cell_type": "code",
     "collapsed": false,
     "input": [
      "# Most releases:\n",
      "all_packages[all_packages['version_count'] == all_packages.version_count.max()]"
     ],
     "language": "python",
     "metadata": {},
     "outputs": [
      {
       "html": [
        "<div style=\"max-height:1000px;max-width:1500px;overflow:auto;\">\n",
        "<table border=\"1\" class=\"dataframe\">\n",
        "  <thead>\n",
        "    <tr style=\"text-align: right;\">\n",
        "      <th></th>\n",
        "      <th>package</th>\n",
        "      <th>direct_dependents</th>\n",
        "      <th>deep_dependents</th>\n",
        "      <th>diff_between_deps</th>\n",
        "      <th>direct_dependents_count_p</th>\n",
        "      <th>deep_dependent_count_p</th>\n",
        "      <th>diff_between_deps_p</th>\n",
        "      <th>latest_version</th>\n",
        "      <th>version_major</th>\n",
        "      <th>version_minor</th>\n",
        "      <th>...</th>\n",
        "      <th>log_delta</th>\n",
        "      <th>deltaSinceModifiedDays</th>\n",
        "      <th>delta_p</th>\n",
        "      <th>version_count_p</th>\n",
        "      <th>version_count_category</th>\n",
        "      <th>major_version_category</th>\n",
        "      <th>deep_dependents_category</th>\n",
        "      <th>age_category</th>\n",
        "      <th>updated_category</th>\n",
        "      <th>maintainers_category</th>\n",
        "    </tr>\n",
        "  </thead>\n",
        "  <tbody>\n",
        "    <tr>\n",
        "      <th>3964</th>\n",
        "      <td> apostrophe</td>\n",
        "      <td> 1</td>\n",
        "      <td> 1</td>\n",
        "      <td> 0</td>\n",
        "      <td> 0.000141</td>\n",
        "      <td> 0.000038</td>\n",
        "      <td> 0</td>\n",
        "      <td> 0.5.196</td>\n",
        "      <td> 0</td>\n",
        "      <td> 5</td>\n",
        "      <td>...</td>\n",
        "      <td> 6.37332</td>\n",
        "      <td> 4</td>\n",
        "      <td> 0.427114</td>\n",
        "      <td> 1</td>\n",
        "      <td> gt50_releases</td>\n",
        "      <td> version_major_zero</td>\n",
        "      <td> deps_lt_5</td>\n",
        "      <td> age_2_year</td>\n",
        "      <td> within_last_year</td>\n",
        "      <td> maintainers_gt_3</td>\n",
        "    </tr>\n",
        "  </tbody>\n",
        "</table>\n",
        "<p>1 rows \u00d7 31 columns</p>\n",
        "</div>"
       ],
       "metadata": {},
       "output_type": "pyout",
       "prompt_number": 18,
       "text": [
        "         package  direct_dependents  deep_dependents  diff_between_deps  \\\n",
        "3964  apostrophe                  1                1                  0   \n",
        "\n",
        "      direct_dependents_count_p  deep_dependent_count_p  diff_between_deps_p  \\\n",
        "3964                   0.000141                0.000038                    0   \n",
        "\n",
        "     latest_version  version_major  version_minor      ...        log_delta  \\\n",
        "3964        0.5.196              0              5      ...          6.37332   \n",
        "\n",
        "     deltaSinceModifiedDays   delta_p  version_count_p  \\\n",
        "3964                      4  0.427114                1   \n",
        "\n",
        "      version_count_category major_version_category deep_dependents_category  \\\n",
        "3964           gt50_releases     version_major_zero                deps_lt_5   \n",
        "\n",
        "     age_category  updated_category  maintainers_category  \n",
        "3964   age_2_year  within_last_year      maintainers_gt_3  \n",
        "\n",
        "[1 rows x 31 columns]"
       ]
      }
     ],
     "prompt_number": 18
    },
    {
     "cell_type": "code",
     "collapsed": false,
     "input": [
      "# higher major version -> more releases\n",
      "s = all_packages[all_packages['version_count'] > 1]\n",
      "x = 'version_count'\n",
      "y = 'version_major'\n",
      "\n",
      "f, (ax1, ax2) = plt.subplots(1, 2, sharey=True)\n",
      "sns.regplot(x, y, s, ax=ax1)\n",
      "ax1.set(xlabel=\"# of releases\", ylabel=\"major version\");\n",
      "sns.residplot(x, y, s, color=\"seagreen\", ax=ax2)\n",
      "mod = ols(formula='version_count ~ version_major', data=s)\n",
      "res = mod.fit()\n",
      "print res.summary()"
     ],
     "language": "python",
     "metadata": {},
     "outputs": [
      {
       "output_type": "stream",
       "stream": "stdout",
       "text": [
        "                            OLS Regression Results                            \n",
        "==============================================================================\n",
        "Dep. Variable:          version_count   R-squared:                       0.024\n",
        "Model:                            OLS   Adj. R-squared:                  0.024\n",
        "Method:                 Least Squares   F-statistic:                     1642.\n",
        "Date:                Wed, 24 Sep 2014   Prob (F-statistic):               0.00\n",
        "Time:                        13:03:53   Log-Likelihood:            -2.5517e+05\n",
        "No. Observations:               66498   AIC:                         5.104e+05\n",
        "Df Residuals:                   66496   BIC:                         5.104e+05\n",
        "Df Model:                           1                                         \n",
        "=================================================================================\n",
        "                    coef    std err          t      P>|t|      [95.0% Conf. Int.]\n",
        "---------------------------------------------------------------------------------\n",
        "Intercept         6.6562      0.046    143.409      0.000         6.565     6.747\n",
        "version_major     2.4397      0.060     40.523      0.000         2.322     2.558\n",
        "==============================================================================\n",
        "Omnibus:                   105880.441   Durbin-Watson:                   1.779\n",
        "Prob(Omnibus):                  0.000   Jarque-Bera (JB):        125703791.859\n",
        "Skew:                          10.136   Prob(JB):                         0.00\n",
        "Kurtosis:                     215.031   Cond. No.                         1.57\n",
        "==============================================================================\n"
       ]
      },
      {
       "metadata": {},
       "output_type": "display_data",
       "png": "[encoded data removed]",
       "text": [
        "<matplotlib.figure.Figure at 0x109ef32d0>"
       ]
      }
     ],
     "prompt_number": 154
    },
    {
     "cell_type": "markdown",
     "metadata": {},
     "source": [
      "#### Updates"
     ]
    },
    {
     "cell_type": "code",
     "collapsed": false,
     "input": [
      "# Percents\n",
      "all_packages['updated_category'].value_counts(normalize=True)"
     ],
     "language": "python",
     "metadata": {},
     "outputs": [
      {
       "metadata": {},
       "output_type": "pyout",
       "prompt_number": 155,
       "text": [
        "within_last_year                 0.705914\n",
        "havent_been_updated_in_1_year    0.209064\n",
        "havent_been_updated_in_2_year    0.068110\n",
        "havent_been_updated_in_3_year    0.016911\n",
        "dtype: float64"
       ]
      }
     ],
     "prompt_number": 155
    },
    {
     "cell_type": "code",
     "collapsed": false,
     "input": [
      "sns.barplot(\"updated_category\", \"version_count\", data=all_packages);"
     ],
     "language": "python",
     "metadata": {},
     "outputs": [
      {
       "metadata": {},
       "output_type": "pyout",
       "prompt_number": 156,
       "text": [
        "<matplotlib.axes.AxesSubplot at 0x109da1dd0>"
       ]
      },
      {
       "metadata": {},
       "output_type": "display_data",
       "png": "[encoded data removed]",
       "text": [
        "<matplotlib.figure.Figure at 0x109e34110>"
       ]
      }
     ],
     "prompt_number": 156
    },
    {
     "cell_type": "code",
     "collapsed": false,
     "input": [
      "\n",
      "# mod = ols(formula='deltaSinceModifiedDays ~ version_major', data=s)\n",
      "# res = mod.fit()\n",
      "# print res.summary()\n",
      "\n",
      "s = all_packages[all_packages['version_count'] > 1]\n",
      "x = 'deltaSinceModifiedDays'\n",
      "y = 'version_major'\n",
      "\n",
      "sub = pd.DataFrame(all_packages, columns=[x,y])\n",
      "\n",
      "sns.barplot(\"major_version_category\", \"deltaSinceModifiedDays\", data=all_packages);"
     ],
     "language": "python",
     "metadata": {},
     "outputs": [
      {
       "metadata": {},
       "output_type": "display_data",
       "png": "[encoded data removed]",
       "text": [
        "<matplotlib.figure.Figure at 0x118cff710>"
       ]
      }
     ],
     "prompt_number": 47
    },
    {
     "cell_type": "code",
     "collapsed": false,
     "input": [
      "# Median by version\n",
      "cats = all_packages['major_version_category'].unique()\n",
      "for c in cats:\n",
      "    print \"=> \" + c\n",
      "    sub = all_packages[all_packages['major_version_category'] == c]\n",
      "    print sub.groupby(['updated_category'])['version_count'].count() / float(len(sub))"
     ],
     "language": "python",
     "metadata": {},
     "outputs": [
      {
       "output_type": "stream",
       "stream": "stdout",
       "text": [
        "=> version_major_zero\n",
        "updated_category\n",
        "havent_been_updated_in_1_year    0.222754\n",
        "havent_been_updated_in_2_year    0.074839\n",
        "havent_been_updated_in_3_year    0.018385\n",
        "within_last_year                 0.684021\n",
        "Name: version_count, dtype: float64\n",
        "=> version_major_gt_one\n",
        "updated_category\n",
        "havent_been_updated_in_1_year    0.099499\n",
        "havent_been_updated_in_2_year    0.027222\n",
        "havent_been_updated_in_3_year    0.007196\n",
        "within_last_year                 0.866083\n",
        "Name: version_count, dtype: float64"
       ]
      },
      {
       "output_type": "stream",
       "stream": "stdout",
       "text": [
        "\n",
        "=> version_major_one\n",
        "updated_category\n",
        "havent_been_updated_in_1_year    0.156494\n",
        "havent_been_updated_in_2_year    0.039216\n",
        "havent_been_updated_in_3_year    0.010762\n",
        "within_last_year                 0.793528\n",
        "Name: version_count, dtype: float64\n"
       ]
      }
     ],
     "prompt_number": 157
    },
    {
     "cell_type": "code",
     "collapsed": false,
     "input": [
      "# updated in last 3 months\n",
      "len(all_packages[all_packages['deltaSinceModifiedDays'] < 365/4.0]) / float(len(all_packages))"
     ],
     "language": "python",
     "metadata": {},
     "outputs": [
      {
       "metadata": {},
       "output_type": "pyout",
       "prompt_number": 158,
       "text": [
        "0.2973685603854503"
       ]
      }
     ],
     "prompt_number": 158
    },
    {
     "cell_type": "markdown",
     "metadata": {},
     "source": [
      "## Age"
     ]
    },
    {
     "cell_type": "code",
     "collapsed": false,
     "input": [
      "age_groups = all_packages.groupby(['age_category'])\n",
      "age_groups['package'].count() / len(all_packages)"
     ],
     "language": "python",
     "metadata": {},
     "outputs": [
      {
       "metadata": {},
       "output_type": "pyout",
       "prompt_number": 159,
       "text": [
        "age_category\n",
        "age_0.25_year    0.160798\n",
        "age_0.5_year     0.162757\n",
        "age_1_year       0.248033\n",
        "age_2_year       0.279674\n",
        "age_3_year       0.148727\n",
        "Name: package, dtype: float64"
       ]
      }
     ],
     "prompt_number": 159
    },
    {
     "cell_type": "code",
     "collapsed": false,
     "input": [
      "len(all_packages[all_packages.age < 365]) / float(len(all_packages))"
     ],
     "language": "python",
     "metadata": {},
     "outputs": [
      {
       "metadata": {},
       "output_type": "pyout",
       "prompt_number": 160,
       "text": [
        "0.5715889235982422"
       ]
      }
     ],
     "prompt_number": 160
    },
    {
     "cell_type": "markdown",
     "metadata": {},
     "source": [
      "### major version"
     ]
    },
    {
     "cell_type": "code",
     "collapsed": false,
     "input": [
      "cats = all_packages['age_category'].unique()\n",
      "for c in cats:\n",
      "    print \"=> \" + c\n",
      "    sub = all_packages[all_packages['age_category'] == c]\n",
      "    print sub.groupby(['major_version_category'])['package'].count() / float(len(sub))"
     ],
     "language": "python",
     "metadata": {},
     "outputs": [
      {
       "output_type": "stream",
       "stream": "stdout",
       "text": [
        "=> age_0.5_year\n",
        "major_version_category\n",
        "version_major_gt_one      0.026155\n",
        "version_major_one         0.150618\n",
        "version_major_zero        0.823227\n",
        "Name: package, dtype: float64\n",
        "=> age_2_year\n",
        "major_version_category\n",
        "version_major_gt_one      0.040588\n",
        "version_major_one         0.129070\n",
        "version_major_zero        0.830304\n",
        "Name: package, dtype: float64"
       ]
      },
      {
       "output_type": "stream",
       "stream": "stdout",
       "text": [
        "\n",
        "=> age_3_year\n",
        "major_version_category\n",
        "version_major_gt_one      0.041296\n",
        "version_major_one         0.123745\n",
        "version_major_zero        0.834959\n",
        "Name: package, dtype: float64\n",
        "=> age_1_year\n",
        "major_version_category\n",
        "version_major_gt_one      0.032276\n",
        "version_major_one         0.135764\n",
        "version_major_zero        0.831960\n",
        "Name: package, dtype: float64\n",
        "=> age_0.25_year\n",
        "major_version_category\n",
        "version_major_gt_one      0.025420\n",
        "version_major_one         0.192493\n",
        "version_major_zero        0.782088\n",
        "Name: package, dtype: float64"
       ]
      },
      {
       "output_type": "stream",
       "stream": "stdout",
       "text": [
        "\n"
       ]
      }
     ],
     "prompt_number": 161
    },
    {
     "cell_type": "code",
     "collapsed": false,
     "input": [
      "# higher major version -> more releases\n",
      "s = all_packages\n",
      "x = 'version_major'\n",
      "y = 'age'\n",
      "\n",
      "mod = ols(formula='version_major ~ age', data=s)\n",
      "res = mod.fit()\n",
      "print res.summary()\n",
      "\n",
      "f, (ax1, ax2) = plt.subplots(1, 2, sharey=True)\n",
      "sns.regplot(x, y, s, ax=ax1)\n",
      "ax1.set(xlabel=\"# of releases\", ylabel=\"major version\");\n",
      "sns.residplot(x, y, s, color=\"seagreen\", ax=ax2)"
     ],
     "language": "python",
     "metadata": {},
     "outputs": [
      {
       "output_type": "stream",
       "stream": "stdout",
       "text": [
        "                            OLS Regression Results                            \n",
        "==============================================================================\n",
        "Dep. Variable:          version_major   R-squared:                       0.000\n",
        "Model:                            OLS   Adj. R-squared:                 -0.000\n",
        "Method:                 Least Squares   F-statistic:                   0.09157\n",
        "Date:                Wed, 24 Sep 2014   Prob (F-statistic):              0.762\n",
        "Time:                        13:06:09   Log-Likelihood:                -98690.\n",
        "No. Observations:               94435   AIC:                         1.974e+05\n",
        "Df Residuals:                   94433   BIC:                         1.974e+05\n",
        "Df Model:                           1                                         \n",
        "==============================================================================\n",
        "                 coef    std err          t      P>|t|      [95.0% Conf. Int.]\n",
        "------------------------------------------------------------------------------\n",
        "Intercept      0.2340      0.004     65.552      0.000         0.227     0.241\n",
        "age         -2.18e-06    7.2e-06     -0.303      0.762     -1.63e-05  1.19e-05\n",
        "==============================================================================\n",
        "Omnibus:                   190799.916   Durbin-Watson:                   1.736\n",
        "Prob(Omnibus):                  0.000   Jarque-Bera (JB):       2537154648.376\n",
        "Skew:                          16.109   Prob(JB):                         0.00\n",
        "Kurtosis:                     805.348   Cond. No.                         790.\n",
        "==============================================================================\n"
       ]
      },
      {
       "metadata": {},
       "output_type": "pyout",
       "prompt_number": 162,
       "text": [
        "<matplotlib.axes.AxesSubplot at 0x109bb8350>"
       ]
      },
      {
       "metadata": {},
       "output_type": "display_data",
       "png": "[encoded data removed]",
       "text": [
        "<matplotlib.figure.Figure at 0x109e71050>"
       ]
      }
     ],
     "prompt_number": 162
    },
    {
     "cell_type": "markdown",
     "metadata": {},
     "source": [
      "## dependents"
     ]
    },
    {
     "cell_type": "code",
     "collapsed": false,
     "input": [
      "q95 = all_packages['deep_dependents'].quantile(q=.95)\n",
      "print q95"
     ],
     "language": "python",
     "metadata": {},
     "outputs": [
      {
       "output_type": "stream",
       "stream": "stdout",
       "text": [
        "8.0\n"
       ]
      }
     ],
     "prompt_number": 128
    },
    {
     "cell_type": "code",
     "collapsed": false,
     "input": [
      "all_packages.groupby(['age_category'])['package'].count()"
     ],
     "language": "python",
     "metadata": {},
     "outputs": [
      {
       "metadata": {},
       "output_type": "pyout",
       "prompt_number": 138,
       "text": [
        "age_category\n",
        "age_0.25_year    15368\n",
        "age_0.5_year     15367\n",
        "age_1_year       23316\n",
        "age_2_year       26379\n",
        "age_3_year       14004\n",
        "Name: package, dtype: int64"
       ]
      }
     ],
     "prompt_number": 138
    },
    {
     "cell_type": "code",
     "collapsed": false,
     "input": [
      "most_dependent_upon = all_packages[all_packages['deep_dependents'] > q95]\n",
      "most_dependent_upon.groupby(['age_category'])['package'].count()"
     ],
     "language": "python",
     "metadata": {},
     "outputs": [
      {
       "metadata": {},
       "output_type": "pyout",
       "prompt_number": 164,
       "text": [
        "age_category\n",
        "age_0.25_year     184\n",
        "age_0.5_year      371\n",
        "age_1_year        834\n",
        "age_2_year       1535\n",
        "age_3_year       1552\n",
        "Name: package, dtype: int64"
       ]
      }
     ],
     "prompt_number": 164
    },
    {
     "cell_type": "code",
     "collapsed": false,
     "input": [],
     "language": "python",
     "metadata": {},
     "outputs": []
    }
   ],
   "metadata": {}
  }
 ]
}