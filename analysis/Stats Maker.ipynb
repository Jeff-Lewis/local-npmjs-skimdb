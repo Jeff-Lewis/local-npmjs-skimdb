{
 "metadata": {
  "name": "",
  "signature": "sha256:e1a3c47dcb3e5261c24e0368ef911f0d788ccd84e1ad8d8bebf3301d3cf7ce22"
 },
 "nbformat": 3,
 "nbformat_minor": 0,
 "worksheets": [
  {
   "cells": [
    {
     "cell_type": "code",
     "collapsed": false,
     "input": [
      "import pandas as pd\n",
      "import numpy as np\n",
      "import matplotlib as mpl\n",
      "import matplotlib.pyplot as plt\n",
      "import time\n",
      "import datetime as dt\n",
      "import random\n",
      "import scipy as sc\n",
      "import scipy.stats as ss\n",
      "import statsmodels.api as smapi\n",
      "import statsmodels.graphics as smgraphics \n",
      "from statsmodels.formula.api import ols\n",
      "from scipy.optimize import curve_fit\n",
      "from scipy.interpolate import interp1d\n",
      "import seaborn as sns\n",
      "import json"
     ],
     "language": "python",
     "metadata": {},
     "outputs": [],
     "prompt_number": 1
    },
    {
     "cell_type": "code",
     "collapsed": false,
     "input": [
      "# metadata about packages\n",
      "d_meta = pd.read_csv('../data/packages_meta.csv')\n",
      "\n",
      "# dependency data\n",
      "d_deps = pd.read_csv('../data/packages_dependencies.csv')\n",
      "d_dev_deps = pd.read_csv('../data/packages_devDependencies.csv')\n",
      "d_all_deps = pd.read_csv('../data/packages_both.csv')\n",
      "\n",
      "# keyword network\n",
      "d_keywords = pd.read_csv('../data/keyword_packages.csv')"
     ],
     "language": "python",
     "metadata": {},
     "outputs": [],
     "prompt_number": 2
    },
    {
     "cell_type": "code",
     "collapsed": false,
     "input": [
      "# normalize dates metadata, mostly related to normalizing time and computing deltas.\n",
      "d_meta['createdAt'] = pd.to_datetime(d_meta['created'],unit='s')\n",
      "d_meta['modifiedAt'] = pd.to_datetime(d_meta['modified'],unit='s')\n",
      "d_meta['deltaSinceModified'] = datetime.datetime.now() - d_meta['modifiedAt']\n",
      "d_meta['age'] = (datetime.datetime.now() - d_meta['createdAt']).apply(lambda x: np.timedelta64(x,'D') / np.timedelta64(1, 'D'))\n",
      "d_meta['delta'] = (d_meta.modifiedAt - d_meta.createdAt).apply(lambda x: np.timedelta64(x,'D') / np.timedelta64(1, 'D'))\n",
      "d_meta['log_delta'] = log(d_meta.delta)\n",
      "d_meta['deltaSinceModifiedDays'] = d_meta.deltaSinceModified.apply(lambda x: np.timedelta64(x, 'D').astype(int))\n",
      "\n",
      "# noramlize time data in dependencies\n",
      "d_deps['diff_between_deps'] = d_deps.deep_dependents - d_deps.direct_dependents \n",
      "d_dev_deps['diff_between_deps'] = d_dev_deps.deep_dependents - d_dev_deps.direct_dependents \n",
      "d_all_deps['diff_between_deps'] = d_all_deps.deep_dependents - d_all_deps.direct_dependents "
     ],
     "language": "python",
     "metadata": {},
     "outputs": [],
     "prompt_number": 3
    },
    {
     "cell_type": "code",
     "collapsed": false,
     "input": [
      "# compute the percentiles for some subset\n",
      "def compute_percentiles(df, d_meta, output, count=5000, sortfn=None):\n",
      "    \n",
      "    # Various depdendency percentiles. \n",
      "    df['direct_dependents_count_p'] = df.direct_dependents  / df.direct_dependents.max()\n",
      "    df['deep_dependent_count_p'] = df.deep_dependents / df.deep_dependents.max()\n",
      "    df['diff_between_deps_p'] = df.diff_between_deps / df.diff_between_deps.max()\n",
      "\n",
      "    # Merging dependency data with metadata.\n",
      "    merged_subset = pd.merge(df, d_meta, left_on=['package'], right_on=['id'], how='left')\n",
      "    merged_subset['package'] = merged_subset['id']\n",
      "    merged_subset.drop('id', inplace=True, axis=1)\n",
      "    \n",
      "    # Add percentiles that depended on the merge\n",
      "    merged_subset['delta_p'] = merged_subset.delta / merged_subset.delta.max()\n",
      "    merged_subset['version_count_p'] = merged_subset.version_count / merged_subset.version_count.max()\n",
      "    \n",
      "    if (sortfn):\n",
      "        merged_subset = sortfn(merged_subset)\n",
      "    \n",
      "    s =  merged_subset[0:count]\n",
      "    s.to_json(orient='records', path_or_buf=output)\n",
      "    \n",
      "    return s"
     ],
     "language": "python",
     "metadata": {},
     "outputs": [],
     "prompt_number": 4
    },
    {
     "cell_type": "code",
     "collapsed": false,
     "input": [
      "# Just merge the two for working copy\n",
      "merged_packages = compute_percentiles(d_deps, d_meta, 'all_packages_merged_with_deps.json', count=len(d_meta))\n",
      "\n",
      "# remove some outliers:\n",
      "# - version major should be less than 68 \n",
      "# - it should have created and last modified dates\n",
      "# - it should be less than 16000 days old (weird bug for some npm packages.)\n",
      "all_packages = merged_packages[\n",
      "    (merged_packages.version_major < 68) & \n",
      "    (pd.notnull(merged_packages.created)) & \n",
      "    (pd.notnull(merged_packages.modified)) &\n",
      "    (merged_packages.age < 16000)]\n",
      "\n",
      "# How many remaining?\n",
      "print( len(all_packages)/float(len(merged_packages)))"
     ],
     "language": "python",
     "metadata": {},
     "outputs": [
      {
       "output_type": "stream",
       "stream": "stdout",
       "text": [
        "0.991559055118\n"
       ]
      }
     ],
     "prompt_number": 7
    },
    {
     "cell_type": "markdown",
     "metadata": {},
     "source": [
      "### Compute dimensions of our data:"
     ]
    },
    {
     "cell_type": "code",
     "collapsed": false,
     "input": [
      "stats = {}\n",
      "# Total packages we're looking at\n",
      "stats['total'] = float(len(all_packages))\n",
      "\n",
      "# ==== Subset sizes breakdown\n",
      "stats['questions'] = {}\n",
      "stats['dimensions'] = {}\n",
      "\n",
      "stats['dimensions']['versions'] = {\n",
      "    'versions_zero' : len(all_packages[all_packages.version_major == 0]),\n",
      "    'versions_one' : len(all_packages[all_packages.version_major == 1]),\n",
      "    'versions_gt_one': len(all_packages[all_packages.version_major > 1]),\n",
      "}\n",
      "\n",
      "stats['dimensions']['age'] = {\n",
      "    'age_0.25_year': len(all_packages[all_packages.age < 365/4]),\n",
      "    'age_0.5_year': len(all_packages[(all_packages.age < 365/2) & (all_packages.age >= 365/4)]),\n",
      "    'age_1_year' : len(all_packages[(all_packages.age < 365) & (all_packages.age >= 365/2)]),\n",
      "    'age_2_year' : len(all_packages[(all_packages.age >= 365) & (all_packages.age < 365 * 2)]),\n",
      "    'age_3_year': len(all_packages[(all_packages.age >= 365 * 2) & (all_packages.age < all_packages.age.max())])\n",
      "}\n",
      "\n",
      "stats['dimensions']['dependents'] = {\n",
      "    'deps_zero' : len(all_packages[all_packages.deep_dependents == 0]),\n",
      "    'deps_lt_5' : len(all_packages[(all_packages.deep_dependents >= 1) & (all_packages.deep_dependents <= 5)]),\n",
      "    'deps_gt_5_lt_20' : len(all_packages[(all_packages.deep_dependents >= 6) & (all_packages.deep_dependents <= 20)]),\n",
      "    'deps_gt_20_lt_100': len(all_packages[(all_packages.deep_dependents >= 21) & (all_packages.deep_dependents <= 100)]),\n",
      "    'deps_gt_100': len(all_packages[(all_packages.deep_dependents > 100)])\n",
      "}"
     ],
     "language": "python",
     "metadata": {},
     "outputs": [],
     "prompt_number": 9
    },
    {
     "cell_type": "markdown",
     "metadata": {},
     "source": [
      "### Compute the question breakdowns"
     ]
    },
    {
     "cell_type": "markdown",
     "metadata": {},
     "source": [
      "#### Stats breakdown function\n",
      "\n",
      "Takes in a subset of data and computes the breakdowns we want for it"
     ]
    },
    {
     "cell_type": "code",
     "collapsed": false,
     "input": [
      "def computeQuestionsForSubset(df, fulldf):\n",
      "    st = dict()\n",
      "    \n",
      "    # Versions\n",
      "    st['version_major_zero'] = len(df[df.version_major == 0])\n",
      "    st['version_major_one'] = len(df[df.version_major == 1])\n",
      "    st['version_major_gt_one'] = len(df[df.version_major > 1])\n",
      "    \n",
      "    # release counts\n",
      "    st['1_release'] = len(df[df.version_count == 1])\n",
      "    st['2-3_releases'] = len(df[(df.version_count >= 2) & (df.version_count <= 3)])\n",
      "    st['4-10_releases'] = len(df[(df.version_count >= 4) & (df.version_count <= 10)])\n",
      "    st['11-50_releases'] = len(df[(df.version_count >= 11) & (df.version_count <= 50)])\n",
      "    st['gt50_releases'] = len(df[df.version_count > 50])\n",
      "    \n",
      "    # Dependents\n",
      "    st['have_any_direct_dependents'] = len(df[df.direct_dependents > 0])\n",
      "    st['top_5_direct_dependents'] = len(df[df.direct_dependents >= fulldf.direct_dependents.quantile(q=0.95)])\n",
      "    st['have_any_deep_dependents'] = len(df[(df.deep_dependents > 0) & (df.deep_dependents > df.direct_dependents) ])\n",
      "    st['top_5_deep_dependents'] = len(df[(df.deep_dependents > 0) & (df.deep_dependents > df.direct_dependents) & (df.deep_dependents > fulldf.deep_dependents.quantile(q=0.95))])\n",
      "    st['difference_gt_1000'] = len(df[df.deep_dependents > df.direct_dependents + 1000])\n",
      "    \n",
      "    # top 5 deep dependents\n",
      "    st['top5'] = len(df[df.direct_dependents >= fulldf.direct_dependents.quantile(q=0.95)])\n",
      "    st['bottom95'] = len(df[df.direct_dependents < fulldf.direct_dependents.quantile(q=0.95)])\n",
      "    \n",
      "    # Age breakdown:\n",
      "    st['less_than_1_yr'] = len(df[(df.age <= 365)])\n",
      "    st['older_than_1_yr'] = len(df[(df.age > 365) & (df.age < 2 * 365)])\n",
      "    st['older_than_2_yr'] = len(df[(df.age > 365 * 2) & (df.age < 365 * 3)])\n",
      "    st['older_than_3_yr'] = len(df[(df.age > 365 * 3) & (df.age < 365 * 4)])\n",
      "    \n",
      "    # Last updated\n",
      "    st['within_last_year'] =  len(df[(df.deltaSinceModifiedDays <= 365)])\n",
      "    st['havent_been_updated_in_1_year'] = len(df[(df.deltaSinceModifiedDays  > 365) & (df.deltaSinceModifiedDays < 2 * 365)])\n",
      "    st['havent_been_updated_in_2_year'] = len(df[(df.deltaSinceModifiedDays  > 365 * 2) & (df.deltaSinceModifiedDays  < 365 * 3)])\n",
      "    st['havent_been_updated_in_3_year'] = len(df[(df.deltaSinceModifiedDays  > 365 * 3) & (df.deltaSinceModifiedDays  < 365 * 4)])\n",
      "    \n",
      "    # Maintainer count\n",
      "    st['maintainers_1'] = len(df[df.maintainer_count == 1])\n",
      "    st['maintainers_2'] = len(df[df.maintainer_count == 2])\n",
      "    st['maintainers_gt_3'] = len(df[(df.maintainer_count >= 3)])\n",
      "\n",
      "\n",
      "    return st"
     ],
     "language": "python",
     "metadata": {},
     "outputs": [],
     "prompt_number": 8
    },
    {
     "cell_type": "code",
     "collapsed": false,
     "input": [
      "# === Fill in questions:\n",
      "stats['questions']['all'] = computeQuestionsForSubset(all_packages, all_packages)\n",
      "\n",
      "# By Version Breakdown\n",
      "stats['questions']['versions'] = {}\n",
      "stats['questions']['versions']['versions_zero'] = computeQuestionsForSubset(all_packages[all_packages.version_major == 0], all_packages)\n",
      "stats['questions']['versions']['versions_one'] = computeQuestionsForSubset(all_packages[all_packages.version_major == 1], all_packages)\n",
      "stats['questions']['versions']['versions_gt_one'] = computeQuestionsForSubset(all_packages[all_packages.version_major > 1], all_packages)\n",
      "\n",
      "# By Age Breakdown\n",
      "stats['questions']['age'] = {}\n",
      "stats['questions']['age']['age_0.25_year'] = computeQuestionsForSubset(all_packages[all_packages.age < 365/4], all_packages)\n",
      "stats['questions']['age']['age_0.5_year'] = computeQuestionsForSubset(all_packages[(all_packages.age < 365/2) & (all_packages.age >= 365/4)], all_packages)\n",
      "stats['questions']['age']['age_1_year'] = computeQuestionsForSubset(all_packages[(all_packages.age < 365) & (all_packages.age >= 365/2)], all_packages)\n",
      "stats['questions']['age']['age_2_year'] = computeQuestionsForSubset(all_packages[(all_packages.age >= 365) & (all_packages.age < 365 * 2)], all_packages)\n",
      "stats['questions']['age']['age_3_year'] = computeQuestionsForSubset(all_packages[(all_packages.age >= 365 * 2) & (all_packages.age < all_packages.age.max())], all_packages)\n",
      "\n",
      "# By Dependents Breakdown\n",
      "stats['questions']['dependents'] = {}\n",
      "stats['questions']['dependents']['deps_zero'] = computeQuestionsForSubset(all_packages[all_packages.deep_dependents == 0], all_packages)\n",
      "stats['questions']['dependents']['deps_lt_5'] = computeQuestionsForSubset(all_packages[(all_packages.deep_dependents >= 1) & (all_packages.deep_dependents <= 5)], all_packages)\n",
      "stats['questions']['dependents']['deps_gt_5_lt_20'] = computeQuestionsForSubset(all_packages[(all_packages.deep_dependents >= 6) & (all_packages.deep_dependents <= 20)], all_packages)\n",
      "stats['questions']['dependents']['deps_gt_20_lt_100'] = computeQuestionsForSubset(all_packages[(all_packages.deep_dependents >= 21) & (all_packages.deep_dependents <= 100)], all_packages)\n",
      "stats['questions']['dependents']['deps_gt_100'] = computeQuestionsForSubset(all_packages[(all_packages.deep_dependents >= 101)], all_packages)\n"
     ],
     "language": "python",
     "metadata": {},
     "outputs": [],
     "prompt_number": 10
    },
    {
     "cell_type": "markdown",
     "metadata": {},
     "source": [
      "### Metadata about stats"
     ]
    },
    {
     "cell_type": "code",
     "collapsed": false,
     "input": [
      "stats['names'] = {\n",
      "\n",
      "    # Breakdowns\n",
      "    'versions' : ['0.*', '1.*', '> 1.*'],\n",
      "    'age' : ['< 3 Months', '3-6 Months', '6-12 Months', '1-2 Years', '> 2 Years'],\n",
      "    'dependents' : ['Zero', '1-5', '6-20', '21-100', '> 100'],\n",
      "\n",
      "    # Questions:\n",
      "    'releases': ['One', '2-3', '4-10', '11-50', 'More than 50'],\n",
      "    'updated': ['Within last year', 'More than a year ago', 'More than 2 years ago', 'More than 3 years ago'],\n",
      "    'ageyears': ['Less than a year old', 'Older than a year', 'Older than 2 years', 'Older than 3 years'],\n",
      "    'maintainers': ['One', 'Two', '3 or More'],\n",
      "    'top_5_deep_dependents': ['Top 5%', 'Bottom 95%' ]\n",
      "}\n",
      "\n",
      "stats['order'] = {\n",
      "    'versions' : ['versions_zero', 'versions_one', 'versions_gt_one'],\n",
      "    'age' : ['age_0.25_year', 'age_0.5_year', 'age_1_year', 'age_2_year', 'age_3_year'],\n",
      "    'dependents' : ['deps_zero', 'deps_lt_5', 'deps_gt_5_lt_20', 'deps_gt_20_lt_100', 'deps_gt_100'],\n",
      "}\n",
      "\n",
      "stats['question_order'] = {\n",
      "    'releases' : ['1_release', '2-3_releases', '4-10_releases', '11-50_releases', 'gt50_releases'],\n",
      "    'versions' : ['version_major_zero', 'version_major_one', 'version_major_gt_one'],\n",
      "    'updated' : ['within_last_year', 'havent_been_updated_in_1_year', 'havent_been_updated_in_2_year', 'havent_been_updated_in_3_year'],\n",
      "    'ageyears' : ['less_than_1_yr', 'older_than_1_yr', 'older_than_2_yr', 'older_than_3_yr'],\n",
      "    'maintainers': ['maintainers_1','maintainers_2', 'maintainers_gt_3'],\n",
      "    'top_5_deep_dependents': ['top5', 'bottom95']\n",
      "}\n",
      "stats['questions_no_order'] = ['have_any_direct_dependents', 'have_any_deep_dependents', \n",
      "                               'top_5_direct_dependents', 'difference_gt_1000']"
     ],
     "language": "python",
     "metadata": {},
     "outputs": [],
     "prompt_number": 11
    },
    {
     "cell_type": "code",
     "collapsed": false,
     "input": [
      "# Write out stats - so we have a general build\n",
      "with open('stats_reduced.json', 'wb') as fp:\n",
      "    json.dump(stats, fp)"
     ],
     "language": "python",
     "metadata": {},
     "outputs": [],
     "prompt_number": 12
    },
    {
     "cell_type": "code",
     "collapsed": false,
     "input": [],
     "language": "python",
     "metadata": {},
     "outputs": []
    }
   ],
   "metadata": {}
  }
 ]
}