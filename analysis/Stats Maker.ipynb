{
 "metadata": {
  "name": "",
  "signature": "sha256:0cf8662561e6cc5e70e1f830185061924cd791df057650c5b4f3cba13221f087"
 },
 "nbformat": 3,
 "nbformat_minor": 0,
 "worksheets": [
  {
   "cells": [
    {
     "cell_type": "code",
     "collapsed": false,
     "input": [
      "import pandas as pd\n",
      "import numpy as np\n",
      "import matplotlib as mpl\n",
      "import matplotlib.pyplot as plt\n",
      "import time\n",
      "import datetime as dt\n",
      "import random\n",
      "import scipy as sc\n",
      "import scipy.stats as ss\n",
      "import statsmodels.api as smapi\n",
      "import statsmodels.graphics as smgraphics \n",
      "from statsmodels.formula.api import ols\n",
      "from scipy.optimize import curve_fit\n",
      "from scipy.interpolate import interp1d\n",
      "import seaborn as sns\n",
      "import json"
     ],
     "language": "python",
     "metadata": {},
     "outputs": [],
     "prompt_number": 1
    },
    {
     "cell_type": "code",
     "collapsed": false,
     "input": [
      "# Read all packages csv. Generated in our Stats Maker.\n",
      "all_packages = pd.read_csv(\"all_packages.csv\")"
     ],
     "language": "python",
     "metadata": {},
     "outputs": [],
     "prompt_number": 19
    },
    {
     "cell_type": "markdown",
     "metadata": {},
     "source": [
      "### Compute dimensions of our data:"
     ]
    },
    {
     "cell_type": "code",
     "collapsed": false,
     "input": [
      "stats = {}\n",
      "# Total packages we're looking at\n",
      "stats['total'] = float(len(all_packages))\n",
      "\n",
      "# ==== Subset sizes breakdown\n",
      "stats['questions'] = {}\n",
      "stats['dimensions'] = {}\n",
      "\n",
      "stats['dimensions']['versions'] = {\n",
      "    'versions_zero' : len(all_packages[all_packages.version_major == 0]),\n",
      "    'versions_one' : len(all_packages[all_packages.version_major == 1]),\n",
      "    'versions_gt_one': len(all_packages[all_packages.version_major > 1]),\n",
      "}\n",
      "\n",
      "stats['dimensions']['age'] = {\n",
      "    'age_0.25_year': len(all_packages[all_packages.age < 365/4]),\n",
      "    'age_0.5_year': len(all_packages[(all_packages.age < 365/2) & (all_packages.age >= 365/4)]),\n",
      "    'age_1_year' : len(all_packages[(all_packages.age < 365) & (all_packages.age >= 365/2)]),\n",
      "    'age_2_year' : len(all_packages[(all_packages.age >= 365) & (all_packages.age < 365 * 2)]),\n",
      "    'age_3_year': len(all_packages[(all_packages.age >= 365 * 2) & (all_packages.age < all_packages.age.max())])\n",
      "}\n",
      "\n",
      "stats['dimensions']['dependents'] = {\n",
      "    'deps_zero' : len(all_packages[all_packages.deep_dependents == 0]),\n",
      "    'deps_lt_5' : len(all_packages[(all_packages.deep_dependents >= 1) & (all_packages.deep_dependents <= 5)]),\n",
      "    'deps_gt_5_lt_20' : len(all_packages[(all_packages.deep_dependents >= 6) & (all_packages.deep_dependents <= 20)]),\n",
      "    'deps_gt_20_lt_100': len(all_packages[(all_packages.deep_dependents >= 21) & (all_packages.deep_dependents <= 100)]),\n",
      "    'deps_gt_100': len(all_packages[(all_packages.deep_dependents > 100)])\n",
      "}"
     ],
     "language": "python",
     "metadata": {},
     "outputs": [],
     "prompt_number": 20
    },
    {
     "cell_type": "markdown",
     "metadata": {},
     "source": [
      "### Compute the question breakdowns"
     ]
    },
    {
     "cell_type": "markdown",
     "metadata": {},
     "source": [
      "#### Stats breakdown function\n",
      "\n",
      "Takes in a subset of data and computes the breakdowns we want for it"
     ]
    },
    {
     "cell_type": "code",
     "collapsed": false,
     "input": [
      "def computeQuestionsForSubset(df, fulldf):\n",
      "    st = dict()\n",
      "    \n",
      "    # Versions\n",
      "    st['version_major_zero'] = len(df[df.version_major == 0])\n",
      "    st['version_major_one'] = len(df[df.version_major == 1])\n",
      "    st['version_major_gt_one'] = len(df[df.version_major > 1])\n",
      "    \n",
      "    # release counts\n",
      "    st['1_release'] = len(df[df.version_count == 1])\n",
      "    st['2-3_releases'] = len(df[(df.version_count >= 2) & (df.version_count <= 3)])\n",
      "    st['4-10_releases'] = len(df[(df.version_count >= 4) & (df.version_count <= 10)])\n",
      "    st['11-50_releases'] = len(df[(df.version_count >= 11) & (df.version_count <= 50)])\n",
      "    st['gt50_releases'] = len(df[df.version_count > 50])\n",
      "    \n",
      "    # Dependents\n",
      "    st['have_any_direct_dependents'] = len(df[df.direct_dependents > 0])\n",
      "    st['top_5_direct_dependents'] = len(df[df.direct_dependents >= fulldf.direct_dependents.quantile(q=0.95)])\n",
      "    st['have_any_deep_dependents'] = len(df[(df.deep_dependents > 0) & (df.deep_dependents > df.direct_dependents) ])\n",
      "    st['top_5_deep_dependents'] = len(df[(df.deep_dependents > 0) & (df.deep_dependents > df.direct_dependents) & (df.deep_dependents > fulldf.deep_dependents.quantile(q=0.95))])\n",
      "    st['difference_gt_1000'] = len(df[df.deep_dependents > df.direct_dependents + 1000])\n",
      "    \n",
      "    # top 5 deep dependents\n",
      "    st['top5'] = len(df[df.direct_dependents >= fulldf.direct_dependents.quantile(q=0.95)])\n",
      "    st['bottom95'] = len(df[df.direct_dependents < fulldf.direct_dependents.quantile(q=0.95)])\n",
      "    \n",
      "    # Age breakdown:\n",
      "    st['less_than_1_yr'] = len(df[(df.age <= 365)])\n",
      "    st['older_than_1_yr'] = len(df[(df.age > 365) & (df.age < 2 * 365)])\n",
      "    st['older_than_2_yr'] = len(df[(df.age > 365 * 2) & (df.age < 365 * 3)])\n",
      "    st['older_than_3_yr'] = len(df[(df.age > 365 * 3) & (df.age < 365 * 4)])\n",
      "    \n",
      "    # Last updated\n",
      "    st['within_last_year'] =  len(df[(df.deltaSinceModifiedDays <= 365)])\n",
      "    st['havent_been_updated_in_1_year'] = len(df[(df.deltaSinceModifiedDays  > 365) & (df.deltaSinceModifiedDays < 2 * 365)])\n",
      "    st['havent_been_updated_in_2_year'] = len(df[(df.deltaSinceModifiedDays  > 365 * 2) & (df.deltaSinceModifiedDays  < 365 * 3)])\n",
      "    st['havent_been_updated_in_3_year'] = len(df[(df.deltaSinceModifiedDays  > 365 * 3) & (df.deltaSinceModifiedDays  < 365 * 4)])\n",
      "    \n",
      "    # Maintainer count\n",
      "    st['maintainers_1'] = len(df[df.maintainer_count == 1])\n",
      "    st['maintainers_2'] = len(df[df.maintainer_count == 2])\n",
      "    st['maintainers_gt_3'] = len(df[(df.maintainer_count >= 3)])\n",
      "\n",
      "\n",
      "    return st"
     ],
     "language": "python",
     "metadata": {},
     "outputs": [],
     "prompt_number": 21
    },
    {
     "cell_type": "code",
     "collapsed": false,
     "input": [
      "# === Fill in questions:\n",
      "stats['questions']['all'] = computeQuestionsForSubset(all_packages, all_packages)\n",
      "\n",
      "# By Version Breakdown\n",
      "stats['questions']['versions'] = {}\n",
      "stats['questions']['versions']['versions_zero'] = computeQuestionsForSubset(all_packages[all_packages.version_major == 0], all_packages)\n",
      "stats['questions']['versions']['versions_one'] = computeQuestionsForSubset(all_packages[all_packages.version_major == 1], all_packages)\n",
      "stats['questions']['versions']['versions_gt_one'] = computeQuestionsForSubset(all_packages[all_packages.version_major > 1], all_packages)\n",
      "\n",
      "# By Age Breakdown\n",
      "stats['questions']['age'] = {}\n",
      "stats['questions']['age']['age_0.25_year'] = computeQuestionsForSubset(all_packages[all_packages.age < 365/4], all_packages)\n",
      "stats['questions']['age']['age_0.5_year'] = computeQuestionsForSubset(all_packages[(all_packages.age < 365/2) & (all_packages.age >= 365/4)], all_packages)\n",
      "stats['questions']['age']['age_1_year'] = computeQuestionsForSubset(all_packages[(all_packages.age < 365) & (all_packages.age >= 365/2)], all_packages)\n",
      "stats['questions']['age']['age_2_year'] = computeQuestionsForSubset(all_packages[(all_packages.age >= 365) & (all_packages.age < 365 * 2)], all_packages)\n",
      "stats['questions']['age']['age_3_year'] = computeQuestionsForSubset(all_packages[(all_packages.age >= 365 * 2) & (all_packages.age < all_packages.age.max())], all_packages)\n",
      "\n",
      "# By Dependents Breakdown\n",
      "stats['questions']['dependents'] = {}\n",
      "stats['questions']['dependents']['deps_zero'] = computeQuestionsForSubset(all_packages[all_packages.deep_dependents == 0], all_packages)\n",
      "stats['questions']['dependents']['deps_lt_5'] = computeQuestionsForSubset(all_packages[(all_packages.deep_dependents >= 1) & (all_packages.deep_dependents <= 5)], all_packages)\n",
      "stats['questions']['dependents']['deps_gt_5_lt_20'] = computeQuestionsForSubset(all_packages[(all_packages.deep_dependents >= 6) & (all_packages.deep_dependents <= 20)], all_packages)\n",
      "stats['questions']['dependents']['deps_gt_20_lt_100'] = computeQuestionsForSubset(all_packages[(all_packages.deep_dependents >= 21) & (all_packages.deep_dependents <= 100)], all_packages)\n",
      "stats['questions']['dependents']['deps_gt_100'] = computeQuestionsForSubset(all_packages[(all_packages.deep_dependents >= 101)], all_packages)\n"
     ],
     "language": "python",
     "metadata": {},
     "outputs": [],
     "prompt_number": 22
    },
    {
     "cell_type": "markdown",
     "metadata": {},
     "source": [
      "### Metadata about stats"
     ]
    },
    {
     "cell_type": "code",
     "collapsed": false,
     "input": [
      "stats['names'] = {\n",
      "\n",
      "    # Breakdowns\n",
      "    'versions' : ['0.*', '1.*', '> 1.*'],\n",
      "    'age' : ['< 3 Months', '3-6 Months', '6-12 Months', '1-2 Years', '> 2 Years'],\n",
      "    'dependents' : ['Zero', '1-5', '6-20', '21-100', '> 100'],\n",
      "\n",
      "    # Questions:\n",
      "    'releases': ['One', '2-3', '4-10', '11-50', 'More than 50'],\n",
      "    'updated': ['Within last year', 'More than a year ago', 'More than 2 years ago', 'More than 3 years ago'],\n",
      "    'ageyears': ['Less than a year old', 'Older than a year', 'Older than 2 years', 'Older than 3 years'],\n",
      "    'maintainers': ['One', 'Two', '3 or More'],\n",
      "    'top_5_deep_dependents': ['Top 5%', 'Bottom 95%' ]\n",
      "}\n",
      "\n",
      "stats['order'] = {\n",
      "    'versions' : ['versions_zero', 'versions_one', 'versions_gt_one'],\n",
      "    'age' : ['age_0.25_year', 'age_0.5_year', 'age_1_year', 'age_2_year', 'age_3_year'],\n",
      "    'dependents' : ['deps_zero', 'deps_lt_5', 'deps_gt_5_lt_20', 'deps_gt_20_lt_100', 'deps_gt_100'],\n",
      "}\n",
      "\n",
      "stats['question_order'] = {\n",
      "    'releases' : ['1_release', '2-3_releases', '4-10_releases', '11-50_releases', 'gt50_releases'],\n",
      "    'versions' : ['version_major_zero', 'version_major_one', 'version_major_gt_one'],\n",
      "    'updated' : ['within_last_year', 'havent_been_updated_in_1_year', 'havent_been_updated_in_2_year', 'havent_been_updated_in_3_year'],\n",
      "    'ageyears' : ['less_than_1_yr', 'older_than_1_yr', 'older_than_2_yr', 'older_than_3_yr'],\n",
      "    'maintainers': ['maintainers_1','maintainers_2', 'maintainers_gt_3'],\n",
      "    'top_5_deep_dependents': ['top5', 'bottom95']\n",
      "}\n",
      "stats['questions_no_order'] = ['have_any_direct_dependents', 'have_any_deep_dependents', \n",
      "                               'top_5_direct_dependents', 'difference_gt_1000']"
     ],
     "language": "python",
     "metadata": {},
     "outputs": [],
     "prompt_number": 23
    },
    {
     "cell_type": "code",
     "collapsed": false,
     "input": [
      "# Write out stats - so we have a general build\n",
      "with open('stats_reduced.json', 'wb') as fp:\n",
      "    json.dump(stats, fp)"
     ],
     "language": "python",
     "metadata": {},
     "outputs": [],
     "prompt_number": 24
    },
    {
     "cell_type": "code",
     "collapsed": false,
     "input": [],
     "language": "python",
     "metadata": {},
     "outputs": []
    }
   ],
   "metadata": {}
  }
 ]
}